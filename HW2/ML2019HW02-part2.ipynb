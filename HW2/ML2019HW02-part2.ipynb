{
 "cells": [
  {
   "cell_type": "markdown",
   "metadata": {},
   "source": [
    "# Home Assignment No. 2: Part 2 (Practice)\n",
    "To solve this task, you will write a lot of code to try several machine learning methods for classification and regression.\n",
    "* You are **HIGHLY RECOMMENDED** to read relevant documentation, e.g. for [python](https://docs.python.org/3/), [numpy](https://docs.scipy.org/doc/numpy/reference/), [matlpotlib](https://matplotlib.org/) and [sklearn](https://scikit-learn.org/stable/). Also remember that seminars, lecture slides, [Google](http://google.com) and [StackOverflow](https://stackoverflow.com/) are your close friends during this course (and, probably, whole life?).\n",
    "\n",
    "* If you want an easy life, you have to use **BUILT-IN METHODS** of `sklearn` library instead of writing tons of our yown code. There exists a class/method for almost everything you can imagine (related to this homework).\n",
    "\n",
    "* To do this part of homework, you have to write **CODE** directly inside specified places inside notebook **CELLS**.\n",
    "\n",
    "* In some problems you may be asked to provide short discussion of the results. In this cases you have to create **MARKDOWN** cell with your comments right after the your code cell.\n",
    "\n",
    "* For every separate problem you can get only 0 points or maximal points for this problem. There are **NO INTERMEDIATE scores**. So make sure that you did everything required in the task\n",
    "\n",
    "* Your **SOLUTION** notebook **MUST BE REPRODUCIBLE**, i.e. if the reviewer decides to execute `Kernel` -> `Restart Kernel and Run All Cells`, after all the computation he will obtain exactly the same solution (with all the corresponding plots) as in your uploaded notebook. For this purpose, we suggest to fix random `seed` or (better) define `random_state=` inside every algorithm that uses some pseudorandomness.\n",
    "\n",
    "* Your code must be clear to the reviewer. For this purpose, try to include neccessary comments inside the code. But remember: **GOOD CODE MUST BE SELF-EXPLANATORY** without any additional comments.\n",
    "\n",
    "Before the start, read several additional recommendations.\n",
    "* Probably you lauch `jupyter notebook` or `ipython notebook` from linux console. Try `jupyter lab` instead - it is a more convenient environment to work with notebooks.\n",
    "* Probably the PC on which you are going to evaluate models has limited CPU/RAM Memory. In this case, we recommend to monitor the CPU and Memory Usage. To do this, you can execute `htop` (for CPU/RAM) or `free -s 0.2` (for RAM) in terminal.\n",
    "* Probably tou have multiple Cores (CPU) on your PC. Many `sklearn` algorithms support multithreading (Ensemble Methods, Cross-Validation, etc.). Check if the particular algorithm has `n_jobs` parameters and set it to `-1` to use all the cores."
   ]
  },
  {
   "cell_type": "markdown",
   "metadata": {},
   "source": [
    "Please, write your implementation within the designated blocks:\n",
    "```python\n",
    "...\n",
    "### BEGIN Solution\n",
    "\n",
    "# >>> your solution here <<<\n",
    "\n",
    "### END Solution\n",
    "...\n",
    "```\n"
   ]
  },
  {
   "cell_type": "markdown",
   "metadata": {},
   "source": [
    "## Model and feature selection"
   ]
  },
  {
   "cell_type": "markdown",
   "metadata": {},
   "source": [
    "Let's load the dataset for this task."
   ]
  },
  {
   "cell_type": "code",
   "execution_count": 145,
   "metadata": {},
   "outputs": [],
   "source": [
    "import numpy as np\n",
    "import sklearn\n",
    "from sklearn.model_selection import train_test_split\n",
    "import pandas as pd\n",
    "import matplotlib.pyplot as plt\n",
    "from sklearn.model_selection import cross_val_score\n",
    "%matplotlib inline"
   ]
  },
  {
   "cell_type": "code",
   "execution_count": 13,
   "metadata": {},
   "outputs": [],
   "source": [
    "data_fs = pd.read_csv(r'data/data_fs.csv', low_memory=False)"
   ]
  },
  {
   "cell_type": "markdown",
   "metadata": {},
   "source": [
    "Look at the first 10 rows of this dataset."
   ]
  },
  {
   "cell_type": "code",
   "execution_count": 14,
   "metadata": {},
   "outputs": [
    {
     "data": {
      "text/html": [
       "<div>\n",
       "<style scoped>\n",
       "    .dataframe tbody tr th:only-of-type {\n",
       "        vertical-align: middle;\n",
       "    }\n",
       "\n",
       "    .dataframe tbody tr th {\n",
       "        vertical-align: top;\n",
       "    }\n",
       "\n",
       "    .dataframe thead th {\n",
       "        text-align: right;\n",
       "    }\n",
       "</style>\n",
       "<table border=\"1\" class=\"dataframe\">\n",
       "  <thead>\n",
       "    <tr style=\"text-align: right;\">\n",
       "      <th></th>\n",
       "      <th>timestamp</th>\n",
       "      <th>full_sq</th>\n",
       "      <th>life_sq</th>\n",
       "      <th>floor</th>\n",
       "      <th>max_floor</th>\n",
       "      <th>material</th>\n",
       "      <th>build_year</th>\n",
       "      <th>num_room</th>\n",
       "      <th>kitch_sq</th>\n",
       "      <th>state</th>\n",
       "      <th>...</th>\n",
       "      <th>provision_retail_space_modern_sqm</th>\n",
       "      <th>turnover_catering_per_cap</th>\n",
       "      <th>theaters_viewers_per_1000_cap</th>\n",
       "      <th>seats_theather_rfmin_per_100000_cap</th>\n",
       "      <th>museum_visitis_per_100_cap</th>\n",
       "      <th>bandwidth_sports</th>\n",
       "      <th>population_reg_sports_share</th>\n",
       "      <th>students_reg_sports_share</th>\n",
       "      <th>apartment_build</th>\n",
       "      <th>apartment_fund_sqm</th>\n",
       "    </tr>\n",
       "  </thead>\n",
       "  <tbody>\n",
       "    <tr>\n",
       "      <th>0</th>\n",
       "      <td>2011-08-20</td>\n",
       "      <td>43</td>\n",
       "      <td>27.0</td>\n",
       "      <td>4.0</td>\n",
       "      <td>NaN</td>\n",
       "      <td>NaN</td>\n",
       "      <td>NaN</td>\n",
       "      <td>NaN</td>\n",
       "      <td>NaN</td>\n",
       "      <td>NaN</td>\n",
       "      <td>...</td>\n",
       "      <td>271.0</td>\n",
       "      <td>6943.0</td>\n",
       "      <td>565.0</td>\n",
       "      <td>0.45356</td>\n",
       "      <td>1240.0</td>\n",
       "      <td>269768.0</td>\n",
       "      <td>22.37</td>\n",
       "      <td>64.12</td>\n",
       "      <td>23587.0</td>\n",
       "      <td>230310.0</td>\n",
       "    </tr>\n",
       "    <tr>\n",
       "      <th>1</th>\n",
       "      <td>2011-08-23</td>\n",
       "      <td>34</td>\n",
       "      <td>19.0</td>\n",
       "      <td>3.0</td>\n",
       "      <td>NaN</td>\n",
       "      <td>NaN</td>\n",
       "      <td>NaN</td>\n",
       "      <td>NaN</td>\n",
       "      <td>NaN</td>\n",
       "      <td>NaN</td>\n",
       "      <td>...</td>\n",
       "      <td>271.0</td>\n",
       "      <td>6943.0</td>\n",
       "      <td>565.0</td>\n",
       "      <td>0.45356</td>\n",
       "      <td>1240.0</td>\n",
       "      <td>269768.0</td>\n",
       "      <td>22.37</td>\n",
       "      <td>64.12</td>\n",
       "      <td>23587.0</td>\n",
       "      <td>230310.0</td>\n",
       "    </tr>\n",
       "    <tr>\n",
       "      <th>2</th>\n",
       "      <td>2011-08-27</td>\n",
       "      <td>43</td>\n",
       "      <td>29.0</td>\n",
       "      <td>2.0</td>\n",
       "      <td>NaN</td>\n",
       "      <td>NaN</td>\n",
       "      <td>NaN</td>\n",
       "      <td>NaN</td>\n",
       "      <td>NaN</td>\n",
       "      <td>NaN</td>\n",
       "      <td>...</td>\n",
       "      <td>271.0</td>\n",
       "      <td>6943.0</td>\n",
       "      <td>565.0</td>\n",
       "      <td>0.45356</td>\n",
       "      <td>1240.0</td>\n",
       "      <td>269768.0</td>\n",
       "      <td>22.37</td>\n",
       "      <td>64.12</td>\n",
       "      <td>23587.0</td>\n",
       "      <td>230310.0</td>\n",
       "    </tr>\n",
       "    <tr>\n",
       "      <th>3</th>\n",
       "      <td>2011-09-01</td>\n",
       "      <td>89</td>\n",
       "      <td>50.0</td>\n",
       "      <td>9.0</td>\n",
       "      <td>NaN</td>\n",
       "      <td>NaN</td>\n",
       "      <td>NaN</td>\n",
       "      <td>NaN</td>\n",
       "      <td>NaN</td>\n",
       "      <td>NaN</td>\n",
       "      <td>...</td>\n",
       "      <td>271.0</td>\n",
       "      <td>6943.0</td>\n",
       "      <td>565.0</td>\n",
       "      <td>0.45356</td>\n",
       "      <td>1240.0</td>\n",
       "      <td>269768.0</td>\n",
       "      <td>22.37</td>\n",
       "      <td>64.12</td>\n",
       "      <td>23587.0</td>\n",
       "      <td>230310.0</td>\n",
       "    </tr>\n",
       "    <tr>\n",
       "      <th>4</th>\n",
       "      <td>2011-09-05</td>\n",
       "      <td>77</td>\n",
       "      <td>77.0</td>\n",
       "      <td>4.0</td>\n",
       "      <td>NaN</td>\n",
       "      <td>NaN</td>\n",
       "      <td>NaN</td>\n",
       "      <td>NaN</td>\n",
       "      <td>NaN</td>\n",
       "      <td>NaN</td>\n",
       "      <td>...</td>\n",
       "      <td>271.0</td>\n",
       "      <td>6943.0</td>\n",
       "      <td>565.0</td>\n",
       "      <td>0.45356</td>\n",
       "      <td>1240.0</td>\n",
       "      <td>269768.0</td>\n",
       "      <td>22.37</td>\n",
       "      <td>64.12</td>\n",
       "      <td>23587.0</td>\n",
       "      <td>230310.0</td>\n",
       "    </tr>\n",
       "    <tr>\n",
       "      <th>5</th>\n",
       "      <td>2011-09-06</td>\n",
       "      <td>67</td>\n",
       "      <td>46.0</td>\n",
       "      <td>14.0</td>\n",
       "      <td>NaN</td>\n",
       "      <td>NaN</td>\n",
       "      <td>NaN</td>\n",
       "      <td>NaN</td>\n",
       "      <td>NaN</td>\n",
       "      <td>NaN</td>\n",
       "      <td>...</td>\n",
       "      <td>271.0</td>\n",
       "      <td>6943.0</td>\n",
       "      <td>565.0</td>\n",
       "      <td>0.45356</td>\n",
       "      <td>1240.0</td>\n",
       "      <td>269768.0</td>\n",
       "      <td>22.37</td>\n",
       "      <td>64.12</td>\n",
       "      <td>23587.0</td>\n",
       "      <td>230310.0</td>\n",
       "    </tr>\n",
       "    <tr>\n",
       "      <th>6</th>\n",
       "      <td>2011-09-08</td>\n",
       "      <td>25</td>\n",
       "      <td>14.0</td>\n",
       "      <td>10.0</td>\n",
       "      <td>NaN</td>\n",
       "      <td>NaN</td>\n",
       "      <td>NaN</td>\n",
       "      <td>NaN</td>\n",
       "      <td>NaN</td>\n",
       "      <td>NaN</td>\n",
       "      <td>...</td>\n",
       "      <td>271.0</td>\n",
       "      <td>6943.0</td>\n",
       "      <td>565.0</td>\n",
       "      <td>0.45356</td>\n",
       "      <td>1240.0</td>\n",
       "      <td>269768.0</td>\n",
       "      <td>22.37</td>\n",
       "      <td>64.12</td>\n",
       "      <td>23587.0</td>\n",
       "      <td>230310.0</td>\n",
       "    </tr>\n",
       "    <tr>\n",
       "      <th>7</th>\n",
       "      <td>2011-09-09</td>\n",
       "      <td>44</td>\n",
       "      <td>44.0</td>\n",
       "      <td>5.0</td>\n",
       "      <td>NaN</td>\n",
       "      <td>NaN</td>\n",
       "      <td>NaN</td>\n",
       "      <td>NaN</td>\n",
       "      <td>NaN</td>\n",
       "      <td>NaN</td>\n",
       "      <td>...</td>\n",
       "      <td>271.0</td>\n",
       "      <td>6943.0</td>\n",
       "      <td>565.0</td>\n",
       "      <td>0.45356</td>\n",
       "      <td>1240.0</td>\n",
       "      <td>269768.0</td>\n",
       "      <td>22.37</td>\n",
       "      <td>64.12</td>\n",
       "      <td>23587.0</td>\n",
       "      <td>230310.0</td>\n",
       "    </tr>\n",
       "    <tr>\n",
       "      <th>8</th>\n",
       "      <td>2011-09-10</td>\n",
       "      <td>42</td>\n",
       "      <td>27.0</td>\n",
       "      <td>5.0</td>\n",
       "      <td>NaN</td>\n",
       "      <td>NaN</td>\n",
       "      <td>NaN</td>\n",
       "      <td>NaN</td>\n",
       "      <td>NaN</td>\n",
       "      <td>NaN</td>\n",
       "      <td>...</td>\n",
       "      <td>271.0</td>\n",
       "      <td>6943.0</td>\n",
       "      <td>565.0</td>\n",
       "      <td>0.45356</td>\n",
       "      <td>1240.0</td>\n",
       "      <td>269768.0</td>\n",
       "      <td>22.37</td>\n",
       "      <td>64.12</td>\n",
       "      <td>23587.0</td>\n",
       "      <td>230310.0</td>\n",
       "    </tr>\n",
       "    <tr>\n",
       "      <th>9</th>\n",
       "      <td>2011-09-13</td>\n",
       "      <td>36</td>\n",
       "      <td>21.0</td>\n",
       "      <td>9.0</td>\n",
       "      <td>NaN</td>\n",
       "      <td>NaN</td>\n",
       "      <td>NaN</td>\n",
       "      <td>NaN</td>\n",
       "      <td>NaN</td>\n",
       "      <td>NaN</td>\n",
       "      <td>...</td>\n",
       "      <td>271.0</td>\n",
       "      <td>6943.0</td>\n",
       "      <td>565.0</td>\n",
       "      <td>0.45356</td>\n",
       "      <td>1240.0</td>\n",
       "      <td>269768.0</td>\n",
       "      <td>22.37</td>\n",
       "      <td>64.12</td>\n",
       "      <td>23587.0</td>\n",
       "      <td>230310.0</td>\n",
       "    </tr>\n",
       "  </tbody>\n",
       "</table>\n",
       "<p>10 rows × 390 columns</p>\n",
       "</div>"
      ],
      "text/plain": [
       "    timestamp  full_sq  life_sq  floor  max_floor  material  build_year  \\\n",
       "0  2011-08-20       43     27.0    4.0        NaN       NaN         NaN   \n",
       "1  2011-08-23       34     19.0    3.0        NaN       NaN         NaN   \n",
       "2  2011-08-27       43     29.0    2.0        NaN       NaN         NaN   \n",
       "3  2011-09-01       89     50.0    9.0        NaN       NaN         NaN   \n",
       "4  2011-09-05       77     77.0    4.0        NaN       NaN         NaN   \n",
       "5  2011-09-06       67     46.0   14.0        NaN       NaN         NaN   \n",
       "6  2011-09-08       25     14.0   10.0        NaN       NaN         NaN   \n",
       "7  2011-09-09       44     44.0    5.0        NaN       NaN         NaN   \n",
       "8  2011-09-10       42     27.0    5.0        NaN       NaN         NaN   \n",
       "9  2011-09-13       36     21.0    9.0        NaN       NaN         NaN   \n",
       "\n",
       "   num_room  kitch_sq  state         ...          \\\n",
       "0       NaN       NaN    NaN         ...           \n",
       "1       NaN       NaN    NaN         ...           \n",
       "2       NaN       NaN    NaN         ...           \n",
       "3       NaN       NaN    NaN         ...           \n",
       "4       NaN       NaN    NaN         ...           \n",
       "5       NaN       NaN    NaN         ...           \n",
       "6       NaN       NaN    NaN         ...           \n",
       "7       NaN       NaN    NaN         ...           \n",
       "8       NaN       NaN    NaN         ...           \n",
       "9       NaN       NaN    NaN         ...           \n",
       "\n",
       "  provision_retail_space_modern_sqm turnover_catering_per_cap  \\\n",
       "0                             271.0                    6943.0   \n",
       "1                             271.0                    6943.0   \n",
       "2                             271.0                    6943.0   \n",
       "3                             271.0                    6943.0   \n",
       "4                             271.0                    6943.0   \n",
       "5                             271.0                    6943.0   \n",
       "6                             271.0                    6943.0   \n",
       "7                             271.0                    6943.0   \n",
       "8                             271.0                    6943.0   \n",
       "9                             271.0                    6943.0   \n",
       "\n",
       "   theaters_viewers_per_1000_cap  seats_theather_rfmin_per_100000_cap  \\\n",
       "0                          565.0                              0.45356   \n",
       "1                          565.0                              0.45356   \n",
       "2                          565.0                              0.45356   \n",
       "3                          565.0                              0.45356   \n",
       "4                          565.0                              0.45356   \n",
       "5                          565.0                              0.45356   \n",
       "6                          565.0                              0.45356   \n",
       "7                          565.0                              0.45356   \n",
       "8                          565.0                              0.45356   \n",
       "9                          565.0                              0.45356   \n",
       "\n",
       "   museum_visitis_per_100_cap  bandwidth_sports  population_reg_sports_share  \\\n",
       "0                      1240.0          269768.0                        22.37   \n",
       "1                      1240.0          269768.0                        22.37   \n",
       "2                      1240.0          269768.0                        22.37   \n",
       "3                      1240.0          269768.0                        22.37   \n",
       "4                      1240.0          269768.0                        22.37   \n",
       "5                      1240.0          269768.0                        22.37   \n",
       "6                      1240.0          269768.0                        22.37   \n",
       "7                      1240.0          269768.0                        22.37   \n",
       "8                      1240.0          269768.0                        22.37   \n",
       "9                      1240.0          269768.0                        22.37   \n",
       "\n",
       "   students_reg_sports_share  apartment_build  apartment_fund_sqm  \n",
       "0                      64.12          23587.0            230310.0  \n",
       "1                      64.12          23587.0            230310.0  \n",
       "2                      64.12          23587.0            230310.0  \n",
       "3                      64.12          23587.0            230310.0  \n",
       "4                      64.12          23587.0            230310.0  \n",
       "5                      64.12          23587.0            230310.0  \n",
       "6                      64.12          23587.0            230310.0  \n",
       "7                      64.12          23587.0            230310.0  \n",
       "8                      64.12          23587.0            230310.0  \n",
       "9                      64.12          23587.0            230310.0  \n",
       "\n",
       "[10 rows x 390 columns]"
      ]
     },
     "execution_count": 14,
     "metadata": {},
     "output_type": "execute_result"
    }
   ],
   "source": [
    "data_fs.head(10)"
   ]
  },
  {
   "cell_type": "markdown",
   "metadata": {},
   "source": [
    "The dataset has many NaN's and also a lot of categorical features. So at first, you should preprocess the data. We can deal with categorical features by using one-hot encoding. To do that we can use [`pandas.get_dummies`](https://pandas.pydata.org/pandas-docs/stable/reference/api/pandas.get_dummies.html)."
   ]
  },
  {
   "cell_type": "code",
   "execution_count": 15,
   "metadata": {},
   "outputs": [],
   "source": [
    "# fill nan with 0\n",
    "data_fs = data_fs.fillna(0)\n",
    "\n",
    "# our goal is to predict the \"price_doc\" feature.\n",
    "y = data_fs[[\"price_doc\"]]\n",
    "X = data_fs.drop(\"price_doc\", axis=1)\n",
    "X = X.drop(\"timestamp\", axis=1)\n",
    "\n",
    "# one-hot encoding\n",
    "X = pd.get_dummies(X, sparse=True)"
   ]
  },
  {
   "cell_type": "code",
   "execution_count": 16,
   "metadata": {},
   "outputs": [
    {
     "data": {
      "text/html": [
       "<div>\n",
       "<style scoped>\n",
       "    .dataframe tbody tr th:only-of-type {\n",
       "        vertical-align: middle;\n",
       "    }\n",
       "\n",
       "    .dataframe tbody tr th {\n",
       "        vertical-align: top;\n",
       "    }\n",
       "\n",
       "    .dataframe thead th {\n",
       "        text-align: right;\n",
       "    }\n",
       "</style>\n",
       "<table border=\"1\" class=\"dataframe\">\n",
       "  <thead>\n",
       "    <tr style=\"text-align: right;\">\n",
       "      <th></th>\n",
       "      <th>full_sq</th>\n",
       "      <th>life_sq</th>\n",
       "      <th>floor</th>\n",
       "      <th>max_floor</th>\n",
       "      <th>material</th>\n",
       "      <th>build_year</th>\n",
       "      <th>num_room</th>\n",
       "      <th>kitch_sq</th>\n",
       "      <th>state</th>\n",
       "      <th>area_m</th>\n",
       "      <th>...</th>\n",
       "      <th>child_on_acc_pre_school_3,013</th>\n",
       "      <th>child_on_acc_pre_school_7,311</th>\n",
       "      <th>modern_education_share_0</th>\n",
       "      <th>modern_education_share_90,92</th>\n",
       "      <th>modern_education_share_93,08</th>\n",
       "      <th>modern_education_share_95,4918</th>\n",
       "      <th>old_education_build_share_0</th>\n",
       "      <th>old_education_build_share_23,14</th>\n",
       "      <th>old_education_build_share_25,47</th>\n",
       "      <th>old_education_build_share_8,2517</th>\n",
       "    </tr>\n",
       "  </thead>\n",
       "  <tbody>\n",
       "    <tr>\n",
       "      <th>14065</th>\n",
       "      <td>46</td>\n",
       "      <td>44.0</td>\n",
       "      <td>7.0</td>\n",
       "      <td>25.0</td>\n",
       "      <td>1.0</td>\n",
       "      <td>2015.0</td>\n",
       "      <td>1.0</td>\n",
       "      <td>1.0</td>\n",
       "      <td>1.0</td>\n",
       "      <td>1.139168e+07</td>\n",
       "      <td>...</td>\n",
       "      <td>0</td>\n",
       "      <td>0</td>\n",
       "      <td>0</td>\n",
       "      <td>0</td>\n",
       "      <td>1</td>\n",
       "      <td>0</td>\n",
       "      <td>0</td>\n",
       "      <td>0</td>\n",
       "      <td>1</td>\n",
       "      <td>0</td>\n",
       "    </tr>\n",
       "    <tr>\n",
       "      <th>12978</th>\n",
       "      <td>77</td>\n",
       "      <td>48.0</td>\n",
       "      <td>17.0</td>\n",
       "      <td>17.0</td>\n",
       "      <td>4.0</td>\n",
       "      <td>2009.0</td>\n",
       "      <td>3.0</td>\n",
       "      <td>9.0</td>\n",
       "      <td>3.0</td>\n",
       "      <td>1.631523e+07</td>\n",
       "      <td>...</td>\n",
       "      <td>1</td>\n",
       "      <td>0</td>\n",
       "      <td>0</td>\n",
       "      <td>1</td>\n",
       "      <td>0</td>\n",
       "      <td>0</td>\n",
       "      <td>0</td>\n",
       "      <td>1</td>\n",
       "      <td>0</td>\n",
       "      <td>0</td>\n",
       "    </tr>\n",
       "    <tr>\n",
       "      <th>18695</th>\n",
       "      <td>39</td>\n",
       "      <td>18.0</td>\n",
       "      <td>7.0</td>\n",
       "      <td>17.0</td>\n",
       "      <td>1.0</td>\n",
       "      <td>0.0</td>\n",
       "      <td>1.0</td>\n",
       "      <td>9.0</td>\n",
       "      <td>0.0</td>\n",
       "      <td>5.293465e+06</td>\n",
       "      <td>...</td>\n",
       "      <td>0</td>\n",
       "      <td>0</td>\n",
       "      <td>0</td>\n",
       "      <td>0</td>\n",
       "      <td>1</td>\n",
       "      <td>0</td>\n",
       "      <td>0</td>\n",
       "      <td>0</td>\n",
       "      <td>1</td>\n",
       "      <td>0</td>\n",
       "    </tr>\n",
       "    <tr>\n",
       "      <th>26411</th>\n",
       "      <td>52</td>\n",
       "      <td>52.0</td>\n",
       "      <td>9.0</td>\n",
       "      <td>17.0</td>\n",
       "      <td>1.0</td>\n",
       "      <td>0.0</td>\n",
       "      <td>2.0</td>\n",
       "      <td>1.0</td>\n",
       "      <td>1.0</td>\n",
       "      <td>2.553630e+07</td>\n",
       "      <td>...</td>\n",
       "      <td>0</td>\n",
       "      <td>0</td>\n",
       "      <td>0</td>\n",
       "      <td>0</td>\n",
       "      <td>1</td>\n",
       "      <td>0</td>\n",
       "      <td>0</td>\n",
       "      <td>0</td>\n",
       "      <td>1</td>\n",
       "      <td>0</td>\n",
       "    </tr>\n",
       "    <tr>\n",
       "      <th>1419</th>\n",
       "      <td>30</td>\n",
       "      <td>18.0</td>\n",
       "      <td>1.0</td>\n",
       "      <td>0.0</td>\n",
       "      <td>0.0</td>\n",
       "      <td>0.0</td>\n",
       "      <td>0.0</td>\n",
       "      <td>0.0</td>\n",
       "      <td>0.0</td>\n",
       "      <td>2.641243e+06</td>\n",
       "      <td>...</td>\n",
       "      <td>0</td>\n",
       "      <td>1</td>\n",
       "      <td>1</td>\n",
       "      <td>0</td>\n",
       "      <td>0</td>\n",
       "      <td>0</td>\n",
       "      <td>1</td>\n",
       "      <td>0</td>\n",
       "      <td>0</td>\n",
       "      <td>0</td>\n",
       "    </tr>\n",
       "    <tr>\n",
       "      <th>29787</th>\n",
       "      <td>99</td>\n",
       "      <td>0.0</td>\n",
       "      <td>12.0</td>\n",
       "      <td>0.0</td>\n",
       "      <td>1.0</td>\n",
       "      <td>2015.0</td>\n",
       "      <td>4.0</td>\n",
       "      <td>1.0</td>\n",
       "      <td>1.0</td>\n",
       "      <td>4.441296e+06</td>\n",
       "      <td>...</td>\n",
       "      <td>0</td>\n",
       "      <td>0</td>\n",
       "      <td>0</td>\n",
       "      <td>0</td>\n",
       "      <td>0</td>\n",
       "      <td>1</td>\n",
       "      <td>0</td>\n",
       "      <td>0</td>\n",
       "      <td>0</td>\n",
       "      <td>1</td>\n",
       "    </tr>\n",
       "    <tr>\n",
       "      <th>18411</th>\n",
       "      <td>40</td>\n",
       "      <td>0.0</td>\n",
       "      <td>17.0</td>\n",
       "      <td>17.0</td>\n",
       "      <td>1.0</td>\n",
       "      <td>0.0</td>\n",
       "      <td>1.0</td>\n",
       "      <td>1.0</td>\n",
       "      <td>1.0</td>\n",
       "      <td>1.139168e+07</td>\n",
       "      <td>...</td>\n",
       "      <td>0</td>\n",
       "      <td>0</td>\n",
       "      <td>0</td>\n",
       "      <td>0</td>\n",
       "      <td>1</td>\n",
       "      <td>0</td>\n",
       "      <td>0</td>\n",
       "      <td>0</td>\n",
       "      <td>1</td>\n",
       "      <td>0</td>\n",
       "    </tr>\n",
       "    <tr>\n",
       "      <th>11541</th>\n",
       "      <td>31</td>\n",
       "      <td>17.0</td>\n",
       "      <td>1.0</td>\n",
       "      <td>9.0</td>\n",
       "      <td>2.0</td>\n",
       "      <td>1964.0</td>\n",
       "      <td>1.0</td>\n",
       "      <td>6.0</td>\n",
       "      <td>2.0</td>\n",
       "      <td>4.662813e+06</td>\n",
       "      <td>...</td>\n",
       "      <td>1</td>\n",
       "      <td>0</td>\n",
       "      <td>0</td>\n",
       "      <td>1</td>\n",
       "      <td>0</td>\n",
       "      <td>0</td>\n",
       "      <td>0</td>\n",
       "      <td>1</td>\n",
       "      <td>0</td>\n",
       "      <td>0</td>\n",
       "    </tr>\n",
       "    <tr>\n",
       "      <th>20741</th>\n",
       "      <td>55</td>\n",
       "      <td>0.0</td>\n",
       "      <td>6.0</td>\n",
       "      <td>0.0</td>\n",
       "      <td>1.0</td>\n",
       "      <td>0.0</td>\n",
       "      <td>2.0</td>\n",
       "      <td>12.0</td>\n",
       "      <td>1.0</td>\n",
       "      <td>6.677245e+07</td>\n",
       "      <td>...</td>\n",
       "      <td>0</td>\n",
       "      <td>0</td>\n",
       "      <td>0</td>\n",
       "      <td>0</td>\n",
       "      <td>1</td>\n",
       "      <td>0</td>\n",
       "      <td>0</td>\n",
       "      <td>0</td>\n",
       "      <td>1</td>\n",
       "      <td>0</td>\n",
       "    </tr>\n",
       "    <tr>\n",
       "      <th>13103</th>\n",
       "      <td>58</td>\n",
       "      <td>42.0</td>\n",
       "      <td>7.0</td>\n",
       "      <td>9.0</td>\n",
       "      <td>1.0</td>\n",
       "      <td>1974.0</td>\n",
       "      <td>3.0</td>\n",
       "      <td>6.0</td>\n",
       "      <td>2.0</td>\n",
       "      <td>4.389199e+06</td>\n",
       "      <td>...</td>\n",
       "      <td>1</td>\n",
       "      <td>0</td>\n",
       "      <td>0</td>\n",
       "      <td>1</td>\n",
       "      <td>0</td>\n",
       "      <td>0</td>\n",
       "      <td>0</td>\n",
       "      <td>1</td>\n",
       "      <td>0</td>\n",
       "      <td>0</td>\n",
       "    </tr>\n",
       "  </tbody>\n",
       "</table>\n",
       "<p>10 rows × 560 columns</p>\n",
       "</div>"
      ],
      "text/plain": [
       "       full_sq  life_sq  floor  max_floor  material  build_year  num_room  \\\n",
       "14065       46     44.0    7.0       25.0       1.0      2015.0       1.0   \n",
       "12978       77     48.0   17.0       17.0       4.0      2009.0       3.0   \n",
       "18695       39     18.0    7.0       17.0       1.0         0.0       1.0   \n",
       "26411       52     52.0    9.0       17.0       1.0         0.0       2.0   \n",
       "1419        30     18.0    1.0        0.0       0.0         0.0       0.0   \n",
       "29787       99      0.0   12.0        0.0       1.0      2015.0       4.0   \n",
       "18411       40      0.0   17.0       17.0       1.0         0.0       1.0   \n",
       "11541       31     17.0    1.0        9.0       2.0      1964.0       1.0   \n",
       "20741       55      0.0    6.0        0.0       1.0         0.0       2.0   \n",
       "13103       58     42.0    7.0        9.0       1.0      1974.0       3.0   \n",
       "\n",
       "       kitch_sq  state        area_m                ...                 \\\n",
       "14065       1.0    1.0  1.139168e+07                ...                  \n",
       "12978       9.0    3.0  1.631523e+07                ...                  \n",
       "18695       9.0    0.0  5.293465e+06                ...                  \n",
       "26411       1.0    1.0  2.553630e+07                ...                  \n",
       "1419        0.0    0.0  2.641243e+06                ...                  \n",
       "29787       1.0    1.0  4.441296e+06                ...                  \n",
       "18411       1.0    1.0  1.139168e+07                ...                  \n",
       "11541       6.0    2.0  4.662813e+06                ...                  \n",
       "20741      12.0    1.0  6.677245e+07                ...                  \n",
       "13103       6.0    2.0  4.389199e+06                ...                  \n",
       "\n",
       "       child_on_acc_pre_school_3,013  child_on_acc_pre_school_7,311  \\\n",
       "14065                              0                              0   \n",
       "12978                              1                              0   \n",
       "18695                              0                              0   \n",
       "26411                              0                              0   \n",
       "1419                               0                              1   \n",
       "29787                              0                              0   \n",
       "18411                              0                              0   \n",
       "11541                              1                              0   \n",
       "20741                              0                              0   \n",
       "13103                              1                              0   \n",
       "\n",
       "       modern_education_share_0  modern_education_share_90,92  \\\n",
       "14065                         0                             0   \n",
       "12978                         0                             1   \n",
       "18695                         0                             0   \n",
       "26411                         0                             0   \n",
       "1419                          1                             0   \n",
       "29787                         0                             0   \n",
       "18411                         0                             0   \n",
       "11541                         0                             1   \n",
       "20741                         0                             0   \n",
       "13103                         0                             1   \n",
       "\n",
       "       modern_education_share_93,08  modern_education_share_95,4918  \\\n",
       "14065                             1                               0   \n",
       "12978                             0                               0   \n",
       "18695                             1                               0   \n",
       "26411                             1                               0   \n",
       "1419                              0                               0   \n",
       "29787                             0                               1   \n",
       "18411                             1                               0   \n",
       "11541                             0                               0   \n",
       "20741                             1                               0   \n",
       "13103                             0                               0   \n",
       "\n",
       "       old_education_build_share_0  old_education_build_share_23,14  \\\n",
       "14065                            0                                0   \n",
       "12978                            0                                1   \n",
       "18695                            0                                0   \n",
       "26411                            0                                0   \n",
       "1419                             1                                0   \n",
       "29787                            0                                0   \n",
       "18411                            0                                0   \n",
       "11541                            0                                1   \n",
       "20741                            0                                0   \n",
       "13103                            0                                1   \n",
       "\n",
       "       old_education_build_share_25,47  old_education_build_share_8,2517  \n",
       "14065                                1                                 0  \n",
       "12978                                0                                 0  \n",
       "18695                                1                                 0  \n",
       "26411                                1                                 0  \n",
       "1419                                 0                                 0  \n",
       "29787                                0                                 1  \n",
       "18411                                1                                 0  \n",
       "11541                                0                                 0  \n",
       "20741                                1                                 0  \n",
       "13103                                0                                 0  \n",
       "\n",
       "[10 rows x 560 columns]"
      ]
     },
     "execution_count": 16,
     "metadata": {},
     "output_type": "execute_result"
    }
   ],
   "source": [
    "# Let's split our dataset into train 70 % and test 30% by using sklearn. \n",
    "X_train, X_test, y_train, y_test = train_test_split(X, y, test_size=0.3, random_state=42)\n",
    "\n",
    "# Look at first 10 rows what you get.\n",
    "X_train.head(10)"
   ]
  },
  {
   "cell_type": "markdown",
   "metadata": {},
   "source": [
    "Okay, now let's see how much data we have."
   ]
  },
  {
   "cell_type": "code",
   "execution_count": 17,
   "metadata": {},
   "outputs": [
    {
     "name": "stdout",
     "output_type": "stream",
     "text": [
      "Train size = (21329, 560)\n",
      "Test size = (9142, 560)\n"
     ]
    }
   ],
   "source": [
    "print(\"Train size =\", X_train.shape)\n",
    "print(\"Test size =\", X_test.shape)"
   ]
  },
  {
   "cell_type": "markdown",
   "metadata": {},
   "source": [
    "There are too many features in this dataset and not all of them are equally important for our problem. Besides, using the whole dataset as-is to train a linear model will, for sure, lead to overfitting. Instead of painful and time consuming manual selection of the most relevant data, we will use the methods of automatic feature selection."
   ]
  },
  {
   "cell_type": "markdown",
   "metadata": {},
   "source": [
    "<br>"
   ]
  },
  {
   "cell_type": "markdown",
   "metadata": {},
   "source": [
    "But at first, we almost forgot to take a look at our targets. Let's plot `y_train` histogram."
   ]
  },
  {
   "cell_type": "code",
   "execution_count": 18,
   "metadata": {},
   "outputs": [
    {
     "data": {
      "image/png": "[encoded data removed]",
      "text/plain": [
       "<Figure size 432x288 with 1 Axes>"
      ]
     },
     "metadata": {
      "needs_background": "light"
     },
     "output_type": "display_data"
    }
   ],
   "source": [
    "y_train.hist(bins=100);"
   ]
  },
  {
   "cell_type": "markdown",
   "metadata": {},
   "source": [
    "There is a big variance in it and it's far from being a normal distribution. In the real-world problems it happens all the time: the data can be far from perfect. We can use some tricks to make it more like what we want.\n",
    "In this particular case we can predict $\\log y$ instead of $y$. This transformation is invertible, so we will be able to get our $y$ back."
   ]
  },
  {
   "cell_type": "code",
   "execution_count": 19,
   "metadata": {},
   "outputs": [
    {
     "data": {
      "image/png": "[encoded data removed]",
      "text/plain": [
       "<Figure size 432x288 with 1 Axes>"
      ]
     },
     "metadata": {
      "needs_background": "light"
     },
     "output_type": "display_data"
    }
   ],
   "source": [
    "y_train_log = np.log(y_train)\n",
    "y_test_log = np.log(y_test)\n",
    "y_train_log.hist(bins=100);"
   ]
  },
  {
   "cell_type": "markdown",
   "metadata": {},
   "source": [
    "Now it looks more like the data we want to deal with.\n",
    "\n",
    "The preprocessing is finally over, so now we are ready for the actual task."
   ]
  },
  {
   "cell_type": "markdown",
   "metadata": {},
   "source": [
    "<h3><center><span style=\"color:red;\">**IMPORTANT NOTICE**</span></center></h3>\n",
    "\n",
    "If you have difficulties with solving the below problems take a look at seminar $7$ on feature and model selection."
   ]
  },
  {
   "cell_type": "markdown",
   "metadata": {},
   "source": [
    "<br>"
   ]
  },
  {
   "cell_type": "markdown",
   "metadata": {},
   "source": [
    "### Task 1 (1 pt.): Random forest feature importances"
   ]
  },
  {
   "cell_type": "markdown",
   "metadata": {},
   "source": [
    "Use random forest to find the imortance of features. Plot the histogram."
   ]
  },
  {
   "cell_type": "code",
   "execution_count": 21,
   "metadata": {
    "scrolled": false
   },
   "outputs": [
    {
     "data": {
      "image/png": "[encoded data removed]",
      "text/plain": [
       "<Figure size 432x288 with 1 Axes>"
      ]
     },
     "metadata": {
      "needs_background": "light"
     },
     "output_type": "display_data"
    }
   ],
   "source": [
    "from sklearn.ensemble import RandomForestRegressor \n",
    "\n",
    "### BEGIN Solution\n",
    "RF = RandomForestRegressor(n_estimators = 100, random_state=404, n_jobs=-1)\n",
    "\n",
    "RF.fit(X_train, np.ravel(y_train_log))\n",
    "\n",
    "from sklearn.preprocessing import MinMaxScaler\n",
    "scaler = MinMaxScaler()\n",
    "features_scores = scaler.fit_transform(RF.feature_importances_.reshape(-1, 1))\n",
    "    \n",
    "plt.hist(features_scores, bins=100)\n",
    "plt.grid(True)\n",
    "plt.title('RF feature importances');\n",
    "### END Solution"
   ]
  },
  {
   "cell_type": "markdown",
   "metadata": {},
   "source": [
    "Print the 20 most important features and their **values**."
   ]
  },
  {
   "cell_type": "code",
   "execution_count": 22,
   "metadata": {
    "scrolled": true
   },
   "outputs": [
    {
     "name": "stdout",
     "output_type": "stream",
     "text": [
      "TOP 20 features and their scaled values\n",
      "\n",
      "['full_sq', 1.0]\n",
      "['sport_count_3000', 0.1053]\n",
      "['cafe_count_5000_price_2500', 0.0907]\n",
      "['cafe_count_3000', 0.077]\n",
      "['cafe_count_2000', 0.075]\n",
      "['micex_cbi_tr', 0.0393]\n",
      "['brent', 0.0315]\n",
      "['kindergarten_km', 0.0298]\n",
      "['ttk_km', 0.0285]\n",
      "['swim_pool_km', 0.0284]\n",
      "['cafe_count_5000', 0.0266]\n",
      "['eurrub', 0.0266]\n",
      "['micex', 0.0265]\n",
      "['catering_km', 0.0264]\n",
      "['floor', 0.0263]\n",
      "['exhibition_km', 0.0263]\n",
      "['usdrub', 0.0263]\n",
      "['metro_min_avto', 0.0262]\n",
      "['public_healthcare_km', 0.0258]\n",
      "['num_room', 0.0253]\n"
     ]
    }
   ],
   "source": [
    "### BEGIN Solution\n",
    "features = []\n",
    "for feature, value in zip(X_train.columns, features_scores):\n",
    "    features.append([feature, round(float(value),4)])\n",
    "features_sorted = sorted(features, key=lambda value: value[1], reverse=True)\n",
    "\n",
    "print('TOP 20 features and their scaled values\\n')\n",
    "top = []\n",
    "for x in range(20):\n",
    "    print(features_sorted[x])\n",
    "    top.append(features_sorted[x][0])\n",
    "\n",
    "### END Solution"
   ]
  },
  {
   "cell_type": "markdown",
   "metadata": {},
   "source": [
    "<br>"
   ]
  },
  {
   "cell_type": "markdown",
   "metadata": {},
   "source": [
    "### Task 2 (1 pt.)"
   ]
  },
  {
   "cell_type": "markdown",
   "metadata": {},
   "source": [
    "On these 20 features train each of the following models\n",
    "* **Linear Regression**\n",
    "* **Ridge regression**\n",
    "* **Random forest**\n",
    "* **DecisionTree**\n",
    "\n",
    "and test its performance using the **Root Mean Squared Logarithmic Error** (RMSLE)."
   ]
  },
  {
   "cell_type": "code",
   "execution_count": 23,
   "metadata": {},
   "outputs": [],
   "source": [
    "from sklearn.metrics import mean_squared_log_error"
   ]
  },
  {
   "cell_type": "markdown",
   "metadata": {},
   "source": [
    "You will need to do it for the next tasks too, so we recommend you to implement\n",
    "a dedicated function for comparisons, which\n",
    "1. on input the function takes a training dataset `(X_train, y_train)` and a test sample `(X_test, y_test)`\n",
    "2. it trains **all of the listed models** on the `(X_train, y_train)` sample\n",
    "3. it computes and returns a table the RMSLE score of each fitted model on the test dataset`(X_test, y_test)`"
   ]
  },
  {
   "cell_type": "code",
   "execution_count": 41,
   "metadata": {},
   "outputs": [],
   "source": [
    "from sklearn import linear_model\n",
    "from sklearn.metrics import mean_squared_log_error\n",
    "\n",
    "def comparator(X_train, y_train, X_test, y_test):\n",
    "    \"\"\"\n",
    "    Parameters\n",
    "    ==========\n",
    "        X_train: ndarray - training inputs\n",
    "        y_train: ndarray - training targets\n",
    "        X_test: ndarray - test inputs\n",
    "        y_test: ndarray - test targets\n",
    "        \n",
    "    Returns\n",
    "    =======\n",
    "        pd.DataFrame - table of RMSLE scores of each model on test and train datasets\n",
    "    \"\"\"\n",
    "    methods = {\n",
    "        \"Linear Regression\": sklearn.linear_model.LinearRegression(), \n",
    "        \"Lasso\": linear_model.Lasso(), \n",
    "        \"Ridge\": linear_model.Ridge(),\n",
    "        \"Dtree\": sklearn.tree.DecisionTreeRegressor(),\n",
    "        \"RFR\": sklearn.ensemble.RandomForestRegressor(n_estimators =100)\n",
    "    }\n",
    "\n",
    "### BEGIN Solution\n",
    "    error_train = []\n",
    "    error_test = []\n",
    "    for method in methods.values():\n",
    "        method.fit(X_train, y_train)\n",
    "        error_train.append(np.sqrt(mean_squared_log_error(method.predict(X_train), y_train)))\n",
    "        error_test.append(np.sqrt(mean_squared_log_error(method.predict(X_test), y_test)))       \n",
    "\n",
    "\n",
    "### END Solution\n",
    "    return pd.DataFrame({\n",
    "        \"Methods\": list(methods.keys()),\n",
    "        \"Train loss\": error_train,\n",
    "        \"Test loss\": error_test\n",
    "    })"
   ]
  },
  {
   "cell_type": "markdown",
   "metadata": {},
   "source": [
    "Now apply this function"
   ]
  },
  {
   "cell_type": "code",
   "execution_count": 42,
   "metadata": {
    "scrolled": true
   },
   "outputs": [
    {
     "name": "stderr",
     "output_type": "stream",
     "text": [
      "C:\\Users\\Andrey\\Anaconda3\\lib\\site-packages\\sklearn\\linear_model\\coordinate_descent.py:492: ConvergenceWarning: Objective did not converge. You might want to increase the number of iterations. Fitting data with very small alpha may cause precision problems.\n",
      "  ConvergenceWarning)\n"
     ]
    },
    {
     "data": {
      "text/html": [
       "<div>\n",
       "<style scoped>\n",
       "    .dataframe tbody tr th:only-of-type {\n",
       "        vertical-align: middle;\n",
       "    }\n",
       "\n",
       "    .dataframe tbody tr th {\n",
       "        vertical-align: top;\n",
       "    }\n",
       "\n",
       "    .dataframe thead th {\n",
       "        text-align: right;\n",
       "    }\n",
       "</style>\n",
       "<table border=\"1\" class=\"dataframe\">\n",
       "  <thead>\n",
       "    <tr style=\"text-align: right;\">\n",
       "      <th></th>\n",
       "      <th>Methods</th>\n",
       "      <th>Train loss</th>\n",
       "      <th>Test loss</th>\n",
       "    </tr>\n",
       "  </thead>\n",
       "  <tbody>\n",
       "    <tr>\n",
       "      <th>0</th>\n",
       "      <td>Linear Regression</td>\n",
       "      <td>0.547757</td>\n",
       "      <td>0.547585</td>\n",
       "    </tr>\n",
       "    <tr>\n",
       "      <th>1</th>\n",
       "      <td>Lasso</td>\n",
       "      <td>0.547408</td>\n",
       "      <td>0.547573</td>\n",
       "    </tr>\n",
       "    <tr>\n",
       "      <th>2</th>\n",
       "      <td>Ridge</td>\n",
       "      <td>0.547705</td>\n",
       "      <td>0.547582</td>\n",
       "    </tr>\n",
       "    <tr>\n",
       "      <th>3</th>\n",
       "      <td>Dtree</td>\n",
       "      <td>0.000558</td>\n",
       "      <td>0.674735</td>\n",
       "    </tr>\n",
       "    <tr>\n",
       "      <th>4</th>\n",
       "      <td>RFR</td>\n",
       "      <td>0.258906</td>\n",
       "      <td>0.471538</td>\n",
       "    </tr>\n",
       "  </tbody>\n",
       "</table>\n",
       "</div>"
      ],
      "text/plain": [
       "             Methods  Train loss  Test loss\n",
       "0  Linear Regression    0.547757   0.547585\n",
       "1              Lasso    0.547408   0.547573\n",
       "2              Ridge    0.547705   0.547582\n",
       "3              Dtree    0.000558   0.674735\n",
       "4                RFR    0.258906   0.471538"
      ]
     },
     "execution_count": 42,
     "metadata": {},
     "output_type": "execute_result"
    }
   ],
   "source": [
    "### BEGIN Solution\n",
    "errors_top = comparator(X_train[top], np.ravel(y_train), X_test[top], np.ravel(y_test))\n",
    "errors_top.head(5)\n",
    "### END Solution"
   ]
  },
  {
   "cell_type": "markdown",
   "metadata": {},
   "source": [
    "<br>"
   ]
  },
  {
   "cell_type": "markdown",
   "metadata": {},
   "source": [
    "## Forward-backward methods\n",
    "\n",
    "The idea is to add or remove features and look how it influences the value of the loss function or some other criteria.\n",
    "\n",
    "Decision about adding or deleting a feature may be made based on:\n",
    "\n",
    "- AIC\n",
    "- BIC\n",
    "- validation error\n",
    "- Mallows $C_p$\n",
    "- sklearn's `estimator.score()`"
   ]
  },
  {
   "cell_type": "markdown",
   "metadata": {},
   "source": [
    "### Task 3 (2 pt.): Implement forward method with early stopping\n",
    "\n",
    "Implement the following greedy feature selection algorithm:\n",
    "\n",
    "```python\n",
    "# Initialize with an empty list of features.\n",
    "list_of_best_features = []\n",
    "\n",
    "while round < n_rounds:\n",
    "    round = round + 1\n",
    "    \n",
    "    if no_more_features:\n",
    "        # end loop\n",
    "\n",
    "    # Iterate over currently *unused* features and use $k$-fold \n",
    "    # . `cross_val_score` to measure model \"quality\".\n",
    "    compute_quality_with_each_new_unused_feature(...)\n",
    "\n",
    "    # **Add** the feature that gives the highest \"quality\" of the model.\n",
    "    pick_and_add_the_best_feature(...)\n",
    "\n",
    "    if model_quality_has_increased_since_last_round:\n",
    "        round = 0\n",
    "\n",
    "return list_of_best_features\n",
    "```"
   ]
  },
  {
   "cell_type": "markdown",
   "metadata": {},
   "source": [
    "### **<span style=\"color:red\">ATTN</span>**\n",
    "Use $k=3$ for the $k$-fold cv, because higher values could take a **lo-o-o-o-o-o-o-o-ong** time.\n",
    "\n",
    "Please bear in mind that **the lower** RMSLE (`mean_squared_log_error`) is, **the higher the model \"quality\" is**.\n",
    "\n",
    "Please look up `cross_val_score(...)` peculiarities in [scikit's manual](https://scikit-learn.org/stable/documentation.html)."
   ]
  },
  {
   "cell_type": "markdown",
   "metadata": {},
   "source": [
    "In the cell below implement a function that would iterate over a list of features and use $k$-fold `cross_val_score` to measure model \"quality\"."
   ]
  },
  {
   "cell_type": "code",
   "execution_count": 43,
   "metadata": {},
   "outputs": [],
   "source": [
    "from sklearn.metrics import make_scorer\n",
    "\n",
    "def root_mean_squared_log_error(y_true, y_pred):\n",
    "    return np.sqrt(mean_squared_log_error(y_true, y_pred))\n",
    "\n",
    "RMLSE = make_scorer(root_mean_squared_log_error, greater_is_better=False)\n",
    "\n",
    "def selection_step(model, X, y, used_features=(), cv=3):\n",
    "    \"\"\"\n",
    "    Parameters\n",
    "    ==========\n",
    "        X: ndarray - training inputs\n",
    "        y: ndarray - training targets\n",
    "        used_features: - list of features\n",
    "        cv: int - number of folds\n",
    "\n",
    "    Returns\n",
    "    =======\n",
    "        scores - dictionary of scores\n",
    "    \"\"\"\n",
    "    \n",
    "    scores = {}\n",
    "    \n",
    "    ### BEGIN Solution\n",
    "    feature_set = used_features\n",
    "    for feature in X.columns:\n",
    "        if feature not in used_features:\n",
    "            feature_set.append(feature)\n",
    "            scores[feature]=round(abs(cross_val_score(model, X[feature_set], y, cv=cv, scoring=RMLSE).mean()), 3)\n",
    "            feature_set.remove(feature)\n",
    "    ### END Solution\n",
    "    return scores"
   ]
  },
  {
   "cell_type": "code",
   "execution_count": 38,
   "metadata": {},
   "outputs": [],
   "source": [
    "def forward_steps(X, y, n_rounds, method):\n",
    "    \"\"\"\n",
    "    Parameters\n",
    "    ==========\n",
    "        X: ndarray - training inputs\n",
    "        y: ndarray - training targets\n",
    "        n_rounds: int - early stop when score doesn't increase n_rounds\n",
    "        method: sklearn model\n",
    "\n",
    "    Returns\n",
    "    =======\n",
    "        feat_best_list - list of features\n",
    "    \"\"\"\n",
    "    \n",
    "    feat_best_list = []\n",
    "\n",
    "    ### BEGIN Solution\n",
    "    round_=0\n",
    "    current_set = []\n",
    "    general_score = np.infty\n",
    "    while round_<n_rounds:\n",
    "        round_ +=1\n",
    "        min_score = np.infty\n",
    "        scores = selection_step(method, X, y, current_set, cv=3)\n",
    "        for feature in scores.keys():\n",
    "            if scores[feature]<min_score:\n",
    "                min_score = scores[feature]\n",
    "                next_feature = feature\n",
    "        if min_score < general_score:\n",
    "            general_score = min_score\n",
    "            current_set.append(next_feature)\n",
    "            round_ = 0\n",
    "            last_ind = len(current_set)\n",
    "            print('\\n',current_set, general_score)\n",
    "            \n",
    "        else:\n",
    "            current_set.append(next_feature)\n",
    "        if (len(current_set) == len(X.columns)):\n",
    "            break\n",
    "    \n",
    "    feat_best_list = current_set[:last_ind]\n",
    "    ### END Solution    \n",
    "    return feat_best_list\n"
   ]
  },
  {
   "cell_type": "markdown",
   "metadata": {},
   "source": [
    "Use the function implemented above and use DecisionTreeRegressor to get the best features according to this algorithm and print them."
   ]
  },
  {
   "cell_type": "code",
   "execution_count": 44,
   "metadata": {},
   "outputs": [
    {
     "name": "stdout",
     "output_type": "stream",
     "text": [
      "\n",
      " ['full_sq'] 0.54\n",
      "\n",
      " ['full_sq', 'ecology_no data'] 0.515\n",
      "\n",
      " ['full_sq', 'ecology_no data', 'sub_area_Nekrasovka'] 0.51\n",
      "\n",
      " ['full_sq', 'ecology_no data', 'sub_area_Nekrasovka', 'cafe_count_1500_price_high'] 0.509\n",
      "\n",
      " ['full_sq', 'ecology_no data', 'sub_area_Nekrasovka', 'cafe_count_1500_price_high', 'sub_area_Babushkinskoe', 'sub_area_Poselenie Vnukovskoe'] 0.508\n",
      "\n",
      " ['full_sq', 'ecology_no data', 'sub_area_Nekrasovka', 'cafe_count_1500_price_high', 'sub_area_Babushkinskoe', 'sub_area_Poselenie Vnukovskoe', 'sub_area_Zapadnoe Degunino'] 0.507\n",
      "\n",
      " ['full_sq', 'ecology_no data', 'sub_area_Nekrasovka', 'cafe_count_1500_price_high', 'sub_area_Babushkinskoe', 'sub_area_Poselenie Vnukovskoe', 'sub_area_Zapadnoe Degunino', 'sub_area_Hamovniki'] 0.506\n",
      "\n",
      " ['full_sq', 'ecology_no data', 'sub_area_Nekrasovka', 'cafe_count_1500_price_high', 'sub_area_Babushkinskoe', 'sub_area_Poselenie Vnukovskoe', 'sub_area_Zapadnoe Degunino', 'sub_area_Hamovniki', 'sub_area_Basmannoe', 'sub_area_Poselenie Novofedorovskoe'] 0.505\n",
      "\n",
      "Best Feature List is: ['full_sq', 'ecology_no data', 'sub_area_Nekrasovka', 'cafe_count_1500_price_high', 'sub_area_Babushkinskoe', 'sub_area_Poselenie Vnukovskoe', 'sub_area_Zapadnoe Degunino', 'sub_area_Hamovniki', 'sub_area_Basmannoe', 'sub_area_Poselenie Novofedorovskoe']\n"
     ]
    }
   ],
   "source": [
    "### BEGIN Solution\n",
    "feat_best_list = forward_steps(X_train, y_train, 2, sklearn.tree.DecisionTreeRegressor())\n",
    "print('\\nBest Feature List is:', feat_best_list)\n",
    "### END Solution"
   ]
  },
  {
   "cell_type": "markdown",
   "metadata": {},
   "source": [
    "Use Linear Regression, Ridge regression, Random forest and DecisionTree to get the RMSLE score using these features. Remember the function you wrote earlier."
   ]
  },
  {
   "cell_type": "code",
   "execution_count": 45,
   "metadata": {
    "scrolled": false
   },
   "outputs": [
    {
     "data": {
      "text/html": [
       "<div>\n",
       "<style scoped>\n",
       "    .dataframe tbody tr th:only-of-type {\n",
       "        vertical-align: middle;\n",
       "    }\n",
       "\n",
       "    .dataframe tbody tr th {\n",
       "        vertical-align: top;\n",
       "    }\n",
       "\n",
       "    .dataframe thead th {\n",
       "        text-align: right;\n",
       "    }\n",
       "</style>\n",
       "<table border=\"1\" class=\"dataframe\">\n",
       "  <thead>\n",
       "    <tr style=\"text-align: right;\">\n",
       "      <th></th>\n",
       "      <th>Methods</th>\n",
       "      <th>Train loss</th>\n",
       "      <th>Test loss</th>\n",
       "    </tr>\n",
       "  </thead>\n",
       "  <tbody>\n",
       "    <tr>\n",
       "      <th>0</th>\n",
       "      <td>Linear Regression</td>\n",
       "      <td>0.564073</td>\n",
       "      <td>0.563635</td>\n",
       "    </tr>\n",
       "    <tr>\n",
       "      <th>1</th>\n",
       "      <td>Lasso</td>\n",
       "      <td>0.564073</td>\n",
       "      <td>0.563635</td>\n",
       "    </tr>\n",
       "    <tr>\n",
       "      <th>2</th>\n",
       "      <td>Ridge</td>\n",
       "      <td>0.564077</td>\n",
       "      <td>0.563643</td>\n",
       "    </tr>\n",
       "    <tr>\n",
       "      <th>3</th>\n",
       "      <td>Dtree</td>\n",
       "      <td>0.481397</td>\n",
       "      <td>0.500471</td>\n",
       "    </tr>\n",
       "    <tr>\n",
       "      <th>4</th>\n",
       "      <td>RFR</td>\n",
       "      <td>0.483792</td>\n",
       "      <td>0.496771</td>\n",
       "    </tr>\n",
       "  </tbody>\n",
       "</table>\n",
       "</div>"
      ],
      "text/plain": [
       "             Methods  Train loss  Test loss\n",
       "0  Linear Regression    0.564073   0.563635\n",
       "1              Lasso    0.564073   0.563635\n",
       "2              Ridge    0.564077   0.563643\n",
       "3              Dtree    0.481397   0.500471\n",
       "4                RFR    0.483792   0.496771"
      ]
     },
     "execution_count": 45,
     "metadata": {},
     "output_type": "execute_result"
    }
   ],
   "source": [
    "### BEGIN Solution\n",
    "errors_new_top = comparator(X_train[feat_best_list], np.ravel(y_train), X_test[feat_best_list], np.ravel(y_test))\n",
    "errors_new_top.head(5)\n",
    "### END Solution"
   ]
  },
  {
   "cell_type": "markdown",
   "metadata": {},
   "source": [
    "<br>"
   ]
  },
  {
   "cell_type": "markdown",
   "metadata": {},
   "source": [
    "## Boosting: gradient boosting, adaboost\n"
   ]
  },
  {
   "cell_type": "markdown",
   "metadata": {},
   "source": [
    "### Practical Boosting"
   ]
  },
  {
   "cell_type": "markdown",
   "metadata": {},
   "source": [
    "In this task you are asked to implement a boosting algorithm, and compare speed of\n",
    "different popular boosting libraries."
   ]
  },
  {
   "cell_type": "markdown",
   "metadata": {},
   "source": [
    "### Task 4 (2 pt.): Boosting Classification on a toy dataset"
   ]
  },
  {
   "cell_type": "markdown",
   "metadata": {},
   "source": [
    "Let's generate a toy dataset for classification."
   ]
  },
  {
   "cell_type": "code",
   "execution_count": 151,
   "metadata": {},
   "outputs": [],
   "source": [
    "from sklearn.datasets import make_moons\n",
    "from sklearn.model_selection import train_test_split\n",
    "from sklearn.metrics import log_loss, accuracy_score\n",
    "from scipy.optimize import minimize\n",
    "from sklearn.dummy import DummyClassifier\n",
    "from sklearn.tree import DecisionTreeRegressor\n",
    "from mlxtend.plotting import plot_decision_regions\n",
    "\n",
    "X, y = make_moons(n_samples=300, shuffle=True, noise=0.05, random_state=1011)\n",
    "X_train, X_test, y_train, y_test = train_test_split(X, y, test_size=0.4, random_state=1011)"
   ]
  },
  {
   "cell_type": "markdown",
   "metadata": {},
   "source": [
    "Your task is:\n",
    "1. Implement gradient boosting algorithms with **logistic loss**\n",
    "and labels $y\\in \\{-1, +1\\}$;\n",
    "2. **Plot the decision boundary** on a $2$-d grid; \n",
    "3. Estimate the accuracy **score** on the test dataset, as well\n",
    "as other classification metrics, that you can think of;\n",
    "    \n",
    "For basic implementation please refer to seminars $8-9$."
   ]
  },
  {
   "cell_type": "code",
   "execution_count": 152,
   "metadata": {},
   "outputs": [
    {
     "name": "stdout",
     "output_type": "stream",
     "text": [
      "Test accuracy: 0.958\n"
     ]
    },
    {
     "data": {
      "image/png": "[encoded data removed]",
      "text/plain": [
       "<Figure size 432x288 with 1 Axes>"
      ]
     },
     "metadata": {
      "needs_background": "light"
     },
     "output_type": "display_data"
    }
   ],
   "source": [
    "### BEGIN Solution\n",
    "y_train[y_train==0]=-1\n",
    "y_test[y_test==0]=-1\n",
    "\n",
    "class My_Boost():\n",
    "    def __init__(self, T):\n",
    "        self.T = T\n",
    "        simple_classifier = DummyClassifier(strategy='most_frequent', random_state=404)\n",
    "        simple_classifier.fit(X,y)\n",
    "        self.alphas = [1]\n",
    "        self.base_trees = [simple_classifier]    \n",
    "        \n",
    "    def fit(self, X, y):\n",
    "        for _ in range(self.T):\n",
    "            grads = y/(1 + np.exp(y*self.sum_of_previous_pred(X)))\n",
    "            tree = DecisionTreeRegressor(random_state = 404)\n",
    "            tree.fit(X, grads)\n",
    "            gamma = minimize(self.log_loss_sum, 1, args=(y, self.sum_of_previous_pred(X), tree.predict(X)) ,method='L-BFGS-B')\n",
    "            self.base_trees.append(tree)\n",
    "            self.alphas.append(gamma.x)  \n",
    "     \n",
    "    def sum_of_previous_pred(self, X):\n",
    "        return [np.sum([alpha * regr.predict([sample])[0] for alpha, regr in zip(self.alphas, self.base_trees)]) \n",
    "                for sample in X] \n",
    "    \n",
    "    def log_loss_sum(self, gamma, y_true, prev_pred, new_pred):\n",
    "        return np.sum(log_loss(y_true, prev_pred+gamma*new_pred))\n",
    "    \n",
    "    def predict(self, X):\n",
    "        return np.sign(self.sum_of_previous_pred(X))\n",
    "\n",
    "boost = My_Boost(T = 8)\n",
    "boost.fit(X_train, y_train)\n",
    "\n",
    "plot_decision_regions(X=X_train, y=y_train, clf=boost)\n",
    "\n",
    "print('Test accuracy:', round(accuracy_score(y_test, boost.predict(X_test)), 3))\n",
    "    \n",
    "### END Solution"
   ]
  },
  {
   "cell_type": "markdown",
   "metadata": {},
   "source": [
    "<br/> <!--Intentionally left blank-->"
   ]
  },
  {
   "cell_type": "markdown",
   "metadata": {},
   "source": [
    "### Task 5 (1 pt.): Measuring the Speed and Performance\n",
    "\n",
    "Please make sure to install the following powerful packages for boosting:\n",
    "* [xgboost](https://anaconda.org/conda-forge/xgboost)\n",
    "* [lightgbm](https://anaconda.org/conda-forge/lightgbm)\n",
    "* [catboost](https://tech.yandex.com/catboost/doc/dg/concepts/python-installation-docpage/)"
   ]
  },
  {
   "cell_type": "markdown",
   "metadata": {},
   "source": [
    "In this task you are asked to compare the **training time** of the **GBDT**, the\n",
    "Gradient Boosted Decision Trees, as implemeted by different popular ML libraries.\n",
    "The dataset you shall use is the [UCI Breast Cancer dataset](https://archive.ics.uci.edu/ml/datasets/Breast+Cancer+Wisconsin+%28Diagnostic%29).\n",
    "You should study the parameters of each library and establish the **correspondence**\n",
    "between them.\n",
    "\n",
    "The plan is as follows:\n",
    "1. Take the **default** parameter settings, measure the training time, and plot\n",
    "the ROC curves;\n",
    "2. Use grid search with the $3$-fold cross valiadation to choose the best model.\n",
    "Then measure the training time as a function of (separately) **tree depth** and **the\n",
    "number of estimators in the ensemble**, finally **plot the ROC** curves of the best\n",
    "models.\n",
    "\n",
    "You need to make sure that you are comparing **comparable** classifiers, i.e. with\n",
    "**the same tree and ensemble hyperparameters**.\n",
    "\n",
    "<span style=\"color:green\">**NOTE**</span> You need figure out how to make parameter settings\n",
    "compatible. One possible way to understand the correspondence is to study the docs. You may\n",
    "choose the default parameters from any library.\n",
    "\n",
    "Please plot **three** ROC curves, one per library, on the same **one plot**\n",
    "with a *comprehensible [legend](https://matplotlib.org/users/legend_guide.html)*.\n",
    "\n",
    "A useful command for timing is IPython's [**timeit** cell magic](http://ipython.readthedocs.io/en/stable/interactive/magics.html#magic-timeit). "
   ]
  },
  {
   "cell_type": "code",
   "execution_count": 46,
   "metadata": {},
   "outputs": [],
   "source": [
    "from sklearn.datasets import load_breast_cancer\n",
    "from sklearn.model_selection import train_test_split\n",
    "\n",
    "data = load_breast_cancer()\n",
    "X, y = data.data, data.target\n",
    "\n",
    "X_train, X_test, y_train, y_test = train_test_split(X, y, test_size=0.4,\n",
    "                                                    random_state=0x0BADBEEF)"
   ]
  },
  {
   "cell_type": "code",
   "execution_count": 48,
   "metadata": {},
   "outputs": [
    {
     "name": "stdout",
     "output_type": "stream",
     "text": [
      "XGBClassifier\n",
      "75.2 ms ± 146 µs per loop (mean ± std. dev. of 7 runs, 10 loops each)\n",
      "LGBMClassifier\n",
      "54 ms ± 591 µs per loop (mean ± std. dev. of 7 runs, 10 loops each)\n",
      "CatBoostClassifier\n",
      "2.02 s ± 44.4 ms per loop (mean ± std. dev. of 7 runs, 1 loop each)\n"
     ]
    },
    {
     "data": {
      "image/png": "[encoded data removed]",
      "text/plain": [
       "<Figure size 504x360 with 1 Axes>"
      ]
     },
     "metadata": {
      "needs_background": "light"
     },
     "output_type": "display_data"
    }
   ],
   "source": [
    "#### Default parameters\n",
    "from xgboost import XGBClassifier\n",
    "from lightgbm import LGBMClassifier\n",
    "from catboost import CatBoostClassifier\n",
    "from sklearn.metrics import roc_curve\n",
    "### BEGIN Solution\n",
    "\n",
    "methods = [XGBClassifier(max_depth=3, learning_rate=0.1, n_estimators=100, random_state=404, verbose = 0), \n",
    "           LGBMClassifier(max_depth=3, learning_rate=0.1, n_estimators=100, random_state=404, verbose = 0), \n",
    "           CatBoostClassifier(max_depth=3, learning_rate=0.1, n_estimators=100, random_seed=404, verbose = 0)]\n",
    "\n",
    "plt.figure(figsize=(7, 5))\n",
    "\n",
    "for method in methods:\n",
    "    print('%s' %(method.__class__.__name__))\n",
    "    %timeit method.fit(X_train, y_train)\n",
    "    y_probas_test = method.predict_proba(X_test)\n",
    "    fpr, tpr, _ = roc_curve(y_test, y_probas_test[:, 1])\n",
    "    plt.plot(fpr, tpr)\n",
    "    plt.title('ROC curves for default classifiers')\n",
    "    plt.xlabel('False positive rate')\n",
    "    plt.ylabel('True positive rate')\n",
    "\n",
    "plt.legend(('XGB', 'LGBM', 'CatBoost'));"
   ]
  },
  {
   "cell_type": "code",
   "execution_count": 51,
   "metadata": {},
   "outputs": [
    {
     "data": {
      "image/png": "[encoded data removed]",
      "text/plain": [
       "<Figure size 504x360 with 1 Axes>"
      ]
     },
     "metadata": {
      "needs_background": "light"
     },
     "output_type": "display_data"
    }
   ],
   "source": [
    "### Optimal parameters\n",
    "from sklearn.model_selection import GridSearchCV\n",
    "\n",
    "plt.figure(figsize=(7, 5))\n",
    "for method in methods:\n",
    "    clf = GridSearchCV(method,{'max_depth': [1, 3, 5], 'n_estimators': [20, 50, 100, 150], \n",
    "                                  'learning_rate': [0.001, 0.01, 0.1, 1]},  cv=3)\n",
    "    clf.fit(X_train, y_train)\n",
    "    y_probas_test = clf.predict_proba(X_test)\n",
    "    fpr, tpr, _ = roc_curve(y_test, y_probas_test[:, 1])\n",
    "    plt.plot(fpr, tpr)\n",
    "    plt.title('ROC curves for optimal classifiers')\n",
    "    plt.xlabel('False positive rate')\n",
    "    plt.ylabel('True positive rate')\n",
    "\n",
    "plt.legend(('XGB', 'LGBM', 'CatBoost'));"
   ]
  },
  {
   "cell_type": "code",
   "execution_count": 52,
   "metadata": {
    "scrolled": true
   },
   "outputs": [
    {
     "name": "stdout",
     "output_type": "stream",
     "text": [
      "43.1 ms ± 1.44 ms per loop (mean ± std. dev. of 7 runs, 10 loops each)\n",
      "28.3 ms ± 2.29 ms per loop (mean ± std. dev. of 7 runs, 10 loops each)\n",
      "1.23 s ± 101 ms per loop (mean ± std. dev. of 7 runs, 1 loop each)\n",
      "79 ms ± 572 µs per loop (mean ± std. dev. of 7 runs, 10 loops each)\n",
      "58.2 ms ± 1.4 ms per loop (mean ± std. dev. of 7 runs, 10 loops each)\n",
      "2.25 s ± 104 ms per loop (mean ± std. dev. of 7 runs, 1 loop each)\n",
      "94.4 ms ± 1.65 ms per loop (mean ± std. dev. of 7 runs, 10 loops each)\n",
      "88.4 ms ± 3.69 ms per loop (mean ± std. dev. of 7 runs, 10 loops each)\n",
      "3.76 s ± 47.1 ms per loop (mean ± std. dev. of 7 runs, 1 loop each)\n",
      "94 ms ± 655 µs per loop (mean ± std. dev. of 7 runs, 10 loops each)\n",
      "102 ms ± 4.74 ms per loop (mean ± std. dev. of 7 runs, 10 loops each)\n",
      "11.7 s ± 123 ms per loop (mean ± std. dev. of 7 runs, 1 loop each)\n",
      "96.3 ms ± 1.34 ms per loop (mean ± std. dev. of 7 runs, 10 loops each)\n",
      "101 ms ± 2.04 ms per loop (mean ± std. dev. of 7 runs, 10 loops each)\n",
      "38.3 s ± 712 ms per loop (mean ± std. dev. of 7 runs, 1 loop each)\n",
      "21 ms ± 1.46 ms per loop (mean ± std. dev. of 7 runs, 10 loops each)\n",
      "14.8 ms ± 170 µs per loop (mean ± std. dev. of 7 runs, 100 loops each)\n",
      "629 ms ± 145 ms per loop (mean ± std. dev. of 7 runs, 1 loop each)\n",
      "45.7 ms ± 2.06 ms per loop (mean ± std. dev. of 7 runs, 10 loops each)\n",
      "31.9 ms ± 2.64 ms per loop (mean ± std. dev. of 7 runs, 10 loops each)\n",
      "1.18 s ± 100 ms per loop (mean ± std. dev. of 7 runs, 1 loop each)\n",
      "79.9 ms ± 3.8 ms per loop (mean ± std. dev. of 7 runs, 10 loops each)\n",
      "61 ms ± 3.03 ms per loop (mean ± std. dev. of 7 runs, 10 loops each)\n",
      "2.08 s ± 5.89 ms per loop (mean ± std. dev. of 7 runs, 1 loop each)\n",
      "101 ms ± 474 µs per loop (mean ± std. dev. of 7 runs, 10 loops each)\n",
      "80.5 ms ± 1.97 ms per loop (mean ± std. dev. of 7 runs, 10 loops each)\n",
      "3.23 s ± 97.8 ms per loop (mean ± std. dev. of 7 runs, 1 loop each)\n",
      "134 ms ± 5.76 ms per loop (mean ± std. dev. of 7 runs, 10 loops each)\n",
      "106 ms ± 2.55 ms per loop (mean ± std. dev. of 7 runs, 10 loops each)\n",
      "4.36 s ± 203 ms per loop (mean ± std. dev. of 7 runs, 1 loop each)\n"
     ]
    }
   ],
   "source": [
    "###Learning Time\n",
    "max_depth = [1, 3, 5, 7, 9]\n",
    "n_estimators = [20, 50, 100, 150, 200]\n",
    "\n",
    "times_depth = np.zeros((3,5))\n",
    "i = 0\n",
    "\n",
    "for depth in max_depth:\n",
    "    j=0\n",
    "    methods = [XGBClassifier(max_depth=depth, learning_rate=0.1, n_estimators=100, random_state=404, verbose = 0), \n",
    "           LGBMClassifier(max_depth=depth, learning_rate=0.1, n_estimators=100, random_state=404, verbose = 0), \n",
    "           CatBoostClassifier(max_depth=depth, learning_rate=0.1, n_estimators=100, random_seed=404, verbose = 0)]\n",
    "    for clf in methods:\n",
    "        time0 = %timeit -o clf.fit(X_train, y_train)\n",
    "        times_depth[j, i] = time0.average\n",
    "        j+=1\n",
    "    i+=1\n",
    "    \n",
    "times_estim = np.zeros((3,5))\n",
    "i = 0\n",
    "\n",
    "for x in n_estimators:\n",
    "    j=0\n",
    "    methods = [XGBClassifier(max_depth=3, learning_rate=0.1, n_estimators=x, random_state=404, verbose = 0), \n",
    "           LGBMClassifier(max_depth=3, learning_rate=0.1, n_estimators=x, random_state=404, verbose = 0), \n",
    "           CatBoostClassifier(max_depth=3, learning_rate=0.1, n_estimators=x, random_seed=404, verbose = 0)]\n",
    "    for clf in methods:\n",
    "        time0 = %timeit -o clf.fit(X_train, y_train)\n",
    "        times_estim[j, i] = time0.average\n",
    "        j+=1\n",
    "    i+=1"
   ]
  },
  {
   "cell_type": "code",
   "execution_count": 53,
   "metadata": {},
   "outputs": [
    {
     "name": "stdout",
     "output_type": "stream",
     "text": [
      "max_depth Dependence\n",
      "\n"
     ]
    },
    {
     "data": {
      "text/html": [
       "<div>\n",
       "<style scoped>\n",
       "    .dataframe tbody tr th:only-of-type {\n",
       "        vertical-align: middle;\n",
       "    }\n",
       "\n",
       "    .dataframe tbody tr th {\n",
       "        vertical-align: top;\n",
       "    }\n",
       "\n",
       "    .dataframe thead th {\n",
       "        text-align: right;\n",
       "    }\n",
       "</style>\n",
       "<table border=\"1\" class=\"dataframe\">\n",
       "  <thead>\n",
       "    <tr style=\"text-align: right;\">\n",
       "      <th></th>\n",
       "      <th>1</th>\n",
       "      <th>3</th>\n",
       "      <th>5</th>\n",
       "      <th>7</th>\n",
       "      <th>9</th>\n",
       "    </tr>\n",
       "  </thead>\n",
       "  <tbody>\n",
       "    <tr>\n",
       "      <th>XGB</th>\n",
       "      <td>0.043122</td>\n",
       "      <td>0.078951</td>\n",
       "      <td>0.094357</td>\n",
       "      <td>0.093984</td>\n",
       "      <td>0.096323</td>\n",
       "    </tr>\n",
       "    <tr>\n",
       "      <th>LGBM</th>\n",
       "      <td>0.028327</td>\n",
       "      <td>0.058186</td>\n",
       "      <td>0.088407</td>\n",
       "      <td>0.101565</td>\n",
       "      <td>0.100819</td>\n",
       "    </tr>\n",
       "    <tr>\n",
       "      <th>CatBoost</th>\n",
       "      <td>1.233600</td>\n",
       "      <td>2.246390</td>\n",
       "      <td>3.756886</td>\n",
       "      <td>11.697036</td>\n",
       "      <td>38.251236</td>\n",
       "    </tr>\n",
       "  </tbody>\n",
       "</table>\n",
       "</div>"
      ],
      "text/plain": [
       "                 1         3         5          7          9\n",
       "XGB       0.043122  0.078951  0.094357   0.093984   0.096323\n",
       "LGBM      0.028327  0.058186  0.088407   0.101565   0.100819\n",
       "CatBoost  1.233600  2.246390  3.756886  11.697036  38.251236"
      ]
     },
     "execution_count": 53,
     "metadata": {},
     "output_type": "execute_result"
    }
   ],
   "source": [
    "table_depth = pd.DataFrame(data=times_depth, index=['XGB', 'LGBM', 'CatBoost'], columns = max_depth)\n",
    "table_estim = pd.DataFrame(data=times_estim, index=['XGB', 'LGBM', 'CatBoost'], columns = n_estimators)\n",
    "print('max_depth Dependence\\n')\n",
    "table_depth.head()"
   ]
  },
  {
   "cell_type": "code",
   "execution_count": 54,
   "metadata": {},
   "outputs": [
    {
     "name": "stdout",
     "output_type": "stream",
     "text": [
      "n_estimators Dependence\n",
      "\n"
     ]
    },
    {
     "data": {
      "text/html": [
       "<div>\n",
       "<style scoped>\n",
       "    .dataframe tbody tr th:only-of-type {\n",
       "        vertical-align: middle;\n",
       "    }\n",
       "\n",
       "    .dataframe tbody tr th {\n",
       "        vertical-align: top;\n",
       "    }\n",
       "\n",
       "    .dataframe thead th {\n",
       "        text-align: right;\n",
       "    }\n",
       "</style>\n",
       "<table border=\"1\" class=\"dataframe\">\n",
       "  <thead>\n",
       "    <tr style=\"text-align: right;\">\n",
       "      <th></th>\n",
       "      <th>20</th>\n",
       "      <th>50</th>\n",
       "      <th>100</th>\n",
       "      <th>150</th>\n",
       "      <th>200</th>\n",
       "    </tr>\n",
       "  </thead>\n",
       "  <tbody>\n",
       "    <tr>\n",
       "      <th>XGB</th>\n",
       "      <td>0.020977</td>\n",
       "      <td>0.045660</td>\n",
       "      <td>0.079880</td>\n",
       "      <td>0.100635</td>\n",
       "      <td>0.133797</td>\n",
       "    </tr>\n",
       "    <tr>\n",
       "      <th>LGBM</th>\n",
       "      <td>0.014757</td>\n",
       "      <td>0.031946</td>\n",
       "      <td>0.060981</td>\n",
       "      <td>0.080505</td>\n",
       "      <td>0.106373</td>\n",
       "    </tr>\n",
       "    <tr>\n",
       "      <th>CatBoost</th>\n",
       "      <td>0.628938</td>\n",
       "      <td>1.180609</td>\n",
       "      <td>2.081309</td>\n",
       "      <td>3.230033</td>\n",
       "      <td>4.359749</td>\n",
       "    </tr>\n",
       "  </tbody>\n",
       "</table>\n",
       "</div>"
      ],
      "text/plain": [
       "               20        50        100       150       200\n",
       "XGB       0.020977  0.045660  0.079880  0.100635  0.133797\n",
       "LGBM      0.014757  0.031946  0.060981  0.080505  0.106373\n",
       "CatBoost  0.628938  1.180609  2.081309  3.230033  4.359749"
      ]
     },
     "execution_count": 54,
     "metadata": {},
     "output_type": "execute_result"
    }
   ],
   "source": [
    "print('n_estimators Dependence\\n')\n",
    "table_estim.head()\n",
    "###END Solution"
   ]
  },
  {
   "cell_type": "markdown",
   "metadata": {},
   "source": [
    "<br>"
   ]
  },
  {
   "cell_type": "markdown",
   "metadata": {},
   "source": [
    "## NNs"
   ]
  },
  {
   "cell_type": "markdown",
   "metadata": {},
   "source": [
    "### Task 6 (1 pt.): Activation functions\n",
    "Plot the following [activation functions](https://pytorch.org/docs/master/nn.html#non-linear-activation-functions) using their PyTorch realizations and their derivatives using autograd functionality:\n",
    "* ReLU, ELU ($\\alpha = 1$), Softplus ($\\beta = 1$);\n",
    "* Sign, Sigmoid, Softsign, Tanh."
   ]
  },
  {
   "cell_type": "code",
   "execution_count": 153,
   "metadata": {
    "scrolled": true
   },
   "outputs": [
    {
     "data": {
      "image/png": "[encoded data removed]",
      "text/plain": [
       "<Figure size 1080x504 with 4 Axes>"
      ]
     },
     "metadata": {
      "needs_background": "light"
     },
     "output_type": "display_data"
    }
   ],
   "source": [
    "import torch.nn.functional as F\n",
    "import matplotlib.pyplot as plt\n",
    "import torch\n",
    "\n",
    "\n",
    "x = torch.arange(-2, 2, .01, requires_grad=True)\n",
    "x.sum().backward() # to create x.grad\n",
    "\n",
    "f, axes = plt.subplots(2, 2, sharex=True, figsize=(15, 7))\n",
    "axes[0, 0].set_title('Values')\n",
    "axes[0, 1].set_title('Derivatives')\n",
    "\n",
    "for i, function_set in (0, (('ReLU', F.relu), ('ELU', F.elu), ('Softplus', F.softplus))), \\\n",
    "                       (1, (('Sign', torch.sign), ('Sigmoid', torch.sigmoid), ('Softsign', F.softsign), ('Tanh', torch.tanh))):\n",
    "    for function_name, activation in function_set:\n",
    "        ### BEGIN Solution\n",
    "        x = torch.arange(-2, 2, .01, requires_grad=True)\n",
    "        activation(x).sum().backward()\n",
    "        axes[i, 1].plot(x.data.numpy(), x.grad.data.numpy(), label=function_name)\n",
    "        axes[i, 0].plot(x.data.numpy(), activation(x).data.numpy(), label=function_name)\n",
    "        ### END Solution\n",
    "\n",
    "    axes[i, 0].legend()\n",
    "    axes[i, 1].legend()\n",
    "\n",
    "plt.tight_layout()\n",
    "plt.show()"
   ]
  },
  {
   "cell_type": "markdown",
   "metadata": {},
   "source": [
    "Answer the following questions. Which of these functions may be, and which -- definitely are a poor choise as an activation function in a neural network? Why?"
   ]
  },
  {
   "cell_type": "markdown",
   "metadata": {},
   "source": [
    "### Sign and Relu is poor choice because of its gradient is equal to zero for negative values. Tanh, softsign and sigmoid is good choice because of being symmetric. Softplus, Relu and Softplus will be less sensetive to errors in negative area and they are linear, so that they are intermediate choice."
   ]
  },
  {
   "cell_type": "markdown",
   "metadata": {},
   "source": [
    "### Task 7 (3 pt.): Backpropagation\n",
    "At the seminar 10 on neural networks, we built an MLP with one hidden layer using our numpy implementations of linear layer and logistic and softmax activation functions. Your task is to\n",
    "1. implement backpropagation for these modules,\n",
    "2. train our numpy realization of MLP to classify the toy MNIST from `sklearn.datasets`."
   ]
  },
  {
   "cell_type": "code",
   "execution_count": 154,
   "metadata": {},
   "outputs": [],
   "source": [
    "from sklearn.metrics import confusion_matrix\n",
    "from sklearn.datasets import load_digits\n",
    "import numpy as np\n",
    "import pandas as pd\n",
    "import matplotlib.pyplot as plt\n",
    "from sklearn.model_selection import train_test_split"
   ]
  },
  {
   "cell_type": "markdown",
   "metadata": {},
   "source": [
    "Prepare the dataset."
   ]
  },
  {
   "cell_type": "code",
   "execution_count": 155,
   "metadata": {},
   "outputs": [],
   "source": [
    "digits, targets = load_digits(return_X_y=True)\n",
    "digits = digits.astype(np.float32) / 255\n",
    "\n",
    "digits_train, digits_test, targets_train, targets_test = train_test_split(digits, targets, random_state=0)\n",
    "\n",
    "train_size = digits_train.shape[0]\n",
    "\n",
    "input_size = 8*8\n",
    "classes_n = 10"
   ]
  },
  {
   "cell_type": "markdown",
   "metadata": {},
   "source": [
    "Implement the MLP with backprop."
   ]
  },
  {
   "cell_type": "code",
   "execution_count": 156,
   "metadata": {},
   "outputs": [],
   "source": [
    "class Linear:\n",
    "    def __init__(self, input_size, output_size):\n",
    "        self.thetas = np.random.randn(input_size, output_size)\n",
    "        self.thetas_grads = np.zeros((input_size, output_size))\n",
    "        self.bias = np.random.randn(output_size)\n",
    "        self.bias_grads = np.zeros(output_size)\n",
    "\n",
    "\n",
    "    def forward(self, x): \n",
    "        output = np.matmul(x, self.thetas) + self.bias\n",
    "        return output\n",
    "    \n",
    "\n",
    "    def backward(self, x, output_grad):\n",
    "        ### BEGIN Solution\n",
    "        # ... calculate grads\n",
    "        self.thetas_grads += np.outer(x, output_grad)\n",
    "        self.bias_grads += output_grad\n",
    "        input_grad = np.dot(output_grad, self.thetas.T)\n",
    "        ### END Solution\n",
    "        return input_grad\n",
    "\n",
    "\n",
    "class LogisticActivation:\n",
    "    def forward(self, x):\n",
    "        output = 1/(1 + np.exp(-x))\n",
    "        return output\n",
    "\n",
    "\n",
    "    def backward(self, x, output_grad):\n",
    "        ### BEGIN Solution\n",
    "        input_grad = x*(1 - x)*output_grad\n",
    "        ### END Solution\n",
    "        return input_grad\n",
    "    \n",
    "\n",
    "class SoftMaxActivation:\n",
    "    def forward(self, x):\n",
    "        output = np.exp(x) / np.exp(x).sum(axis=-1, keepdims=True)\n",
    "        return output\n",
    "    \n",
    "    def backward(self, x, output_grad):\n",
    "        ### BEGIN Solution\n",
    "        input_grad = x*(1 - x)*output_grad\n",
    "        ### END Solution\n",
    "        return input_grad\n",
    "\n",
    "class MLP:\n",
    "    def __init__(self, input_size, hidden_layer_size, output_size):\n",
    "        self.linear1 = Linear(input_size, hidden_layer_size)\n",
    "        self.activation1 = LogisticActivation()\n",
    "        self.linear2 = Linear(hidden_layer_size, output_size)\n",
    "        \n",
    "    \n",
    "    def forward(self, x):\n",
    "        self.first = self.linear1.forward(x)\n",
    "        self.activated = self.activation1.forward(self.first)\n",
    "        self.second = self.linear2.forward(self.activated)\n",
    "        return self.second\n",
    "\n",
    "\n",
    "    def backward(self, x, output_grad):\n",
    "        ### BEGIN Solution\n",
    "        input_2 = self.linear2.backward(self.activated, output_grad)         \n",
    "        input_1 = self.activation1.backward(self.activated, input_2)\n",
    "        input_0 = self.linear1.backward(x, input_1)\n",
    "        ### END Solution"
   ]
  },
  {
   "cell_type": "code",
   "execution_count": 246,
   "metadata": {},
   "outputs": [],
   "source": [
    "### BEGIN Solution\n",
    "# Please, implement here everything else you need, like the loss function.    \n",
    "### END Solution"
   ]
  },
  {
   "cell_type": "code",
   "execution_count": 157,
   "metadata": {
    "scrolled": true
   },
   "outputs": [
    {
     "name": "stdout",
     "output_type": "stream",
     "text": [
      "Starting epoch   0 Starting epoch  10 Starting epoch  20 Starting epoch  30 Starting epoch  40 Starting epoch  50 Starting epoch  60 Starting epoch  70 Starting epoch  80 Starting epoch  90 Starting epoch 100 Starting epoch 110 Starting epoch 120 Starting epoch 130 Starting epoch 140 Starting epoch 150 Starting epoch 160 Starting epoch 170 Starting epoch 180 Starting epoch 190 Starting epoch 200 Starting epoch 210 Starting epoch 220 Starting epoch 230 Starting epoch 240 Starting epoch 250 Starting epoch 260 Starting epoch 270 Starting epoch 280 Starting epoch 290 "
     ]
    },
    {
     "data": {
      "text/plain": [
       "Text(0.5, 1.0, 'Cross Entropy Score')"
      ]
     },
     "execution_count": 157,
     "metadata": {},
     "output_type": "execute_result"
    },
    {
     "data": {
      "image/png": "[encoded data removed]",
      "text/plain": [
       "<Figure size 432x288 with 1 Axes>"
      ]
     },
     "metadata": {
      "needs_background": "light"
     },
     "output_type": "display_data"
    }
   ],
   "source": [
    "np.random.seed(0)\n",
    "hidden_layer_size=100\n",
    "\n",
    "mlp = MLP(input_size=input_size, hidden_layer_size=hidden_layer_size, output_size=classes_n)\n",
    "\n",
    "epochs_n = 300\n",
    "learning_curve = [0] * epochs_n\n",
    "test_curve = [0] * epochs_n\n",
    "\n",
    "x_train = digits_train\n",
    "x_test = digits_test\n",
    "y_train = targets_train\n",
    "y_test = targets_test\n",
    "\n",
    "learning_rate = 1e-3\n",
    "\n",
    "for epoch in range(epochs_n):\n",
    "    if epoch % 10 == 0:\n",
    "        print('Starting epoch {:3}'.format(epoch), end=' ')\n",
    "    for sample_i in range(train_size):\n",
    "        x = x_train[sample_i]\n",
    "        target = y_train[sample_i]\n",
    "\n",
    "        ### BEGIN Solution\n",
    "        # ... zero the gradients\n",
    "        mlp.linear1.thetas_grads = np.zeros((input_size, hidden_layer_size))\n",
    "        mlp.linear2.thetas_grads = np.zeros((hidden_layer_size, classes_n))\n",
    "        mlp.linear1.bias_grads = np.zeros(hidden_layer_size)\n",
    "        mlp.linear2.bias_grads = np.zeros(classes_n)\n",
    "        \n",
    "        true_probas = np.zeros(classes_n)\n",
    "        true_probas[target] = 1\n",
    "        prediction = mlp.forward(x)\n",
    "        p = SoftMaxActivation().forward(prediction)\n",
    "        loss = - np.sum(true_probas*np.log(p))\n",
    "        learning_curve[epoch] += loss\n",
    "\n",
    "        mlp.backward(x, p-true_probas)\n",
    "        \n",
    "        mlp.linear1.thetas -= mlp.linear1.thetas_grads*learning_rate\n",
    "        mlp.linear1.bias   -= mlp.linear1.bias_grads*learning_rate\n",
    "        mlp.linear2.thetas -= mlp.linear2.thetas_grads*learning_rate\n",
    "        mlp.linear2.bias   -= mlp.linear2.bias_grads*learning_rate\n",
    "        \n",
    "    #learning_curve[epoch] /= train_size\n",
    "    for sample_i in range(x_test.shape[0]):\n",
    "        x_t = x_test[sample_i]\n",
    "        target_t = y_test[sample_i]\n",
    "        \n",
    "        true_probas_t = np.zeros(classes_n)\n",
    "        true_probas_t[target_t] = 1\n",
    "        \n",
    "        prediction_t = mlp.forward(x_t)\n",
    "        p_t = SoftMaxActivation().forward(prediction_t)\n",
    "        \n",
    "        loss_t = - np.sum(true_probas_t*np.log(p_t))\n",
    "        test_curve[epoch] += loss_t\n",
    "    ### END Solution\n",
    "    \n",
    "learning_curve = np.array(learning_curve)/train_size\n",
    "test_curve = np.array(test_curve)/x_test.shape[0]\n",
    "\n",
    "plt.plot(learning_curve)\n",
    "plt.plot(test_curve)\n",
    "plt.legend(('Train', 'Test'))\n",
    "plt.title('Cross Entropy Score')"
   ]
  },
  {
   "cell_type": "code",
   "execution_count": 158,
   "metadata": {
    "scrolled": true
   },
   "outputs": [
    {
     "data": {
      "text/html": [
       "<div>\n",
       "<style scoped>\n",
       "    .dataframe tbody tr th:only-of-type {\n",
       "        vertical-align: middle;\n",
       "    }\n",
       "\n",
       "    .dataframe tbody tr th {\n",
       "        vertical-align: top;\n",
       "    }\n",
       "\n",
       "    .dataframe thead th {\n",
       "        text-align: right;\n",
       "    }\n",
       "</style>\n",
       "<table border=\"1\" class=\"dataframe\">\n",
       "  <thead>\n",
       "    <tr style=\"text-align: right;\">\n",
       "      <th></th>\n",
       "      <th>0</th>\n",
       "      <th>1</th>\n",
       "      <th>2</th>\n",
       "      <th>3</th>\n",
       "      <th>4</th>\n",
       "      <th>5</th>\n",
       "      <th>6</th>\n",
       "      <th>7</th>\n",
       "      <th>8</th>\n",
       "      <th>9</th>\n",
       "    </tr>\n",
       "  </thead>\n",
       "  <tbody>\n",
       "    <tr>\n",
       "      <th>0</th>\n",
       "      <td>175</td>\n",
       "      <td>0</td>\n",
       "      <td>0</td>\n",
       "      <td>0</td>\n",
       "      <td>2</td>\n",
       "      <td>0</td>\n",
       "      <td>1</td>\n",
       "      <td>0</td>\n",
       "      <td>0</td>\n",
       "      <td>0</td>\n",
       "    </tr>\n",
       "    <tr>\n",
       "      <th>1</th>\n",
       "      <td>0</td>\n",
       "      <td>150</td>\n",
       "      <td>4</td>\n",
       "      <td>2</td>\n",
       "      <td>1</td>\n",
       "      <td>1</td>\n",
       "      <td>1</td>\n",
       "      <td>3</td>\n",
       "      <td>4</td>\n",
       "      <td>16</td>\n",
       "    </tr>\n",
       "    <tr>\n",
       "      <th>2</th>\n",
       "      <td>0</td>\n",
       "      <td>3</td>\n",
       "      <td>168</td>\n",
       "      <td>1</td>\n",
       "      <td>0</td>\n",
       "      <td>0</td>\n",
       "      <td>0</td>\n",
       "      <td>3</td>\n",
       "      <td>0</td>\n",
       "      <td>2</td>\n",
       "    </tr>\n",
       "    <tr>\n",
       "      <th>3</th>\n",
       "      <td>2</td>\n",
       "      <td>1</td>\n",
       "      <td>0</td>\n",
       "      <td>163</td>\n",
       "      <td>0</td>\n",
       "      <td>4</td>\n",
       "      <td>0</td>\n",
       "      <td>8</td>\n",
       "      <td>0</td>\n",
       "      <td>5</td>\n",
       "    </tr>\n",
       "    <tr>\n",
       "      <th>4</th>\n",
       "      <td>0</td>\n",
       "      <td>0</td>\n",
       "      <td>1</td>\n",
       "      <td>0</td>\n",
       "      <td>175</td>\n",
       "      <td>0</td>\n",
       "      <td>0</td>\n",
       "      <td>5</td>\n",
       "      <td>0</td>\n",
       "      <td>0</td>\n",
       "    </tr>\n",
       "    <tr>\n",
       "      <th>5</th>\n",
       "      <td>0</td>\n",
       "      <td>0</td>\n",
       "      <td>1</td>\n",
       "      <td>0</td>\n",
       "      <td>2</td>\n",
       "      <td>164</td>\n",
       "      <td>1</td>\n",
       "      <td>0</td>\n",
       "      <td>0</td>\n",
       "      <td>14</td>\n",
       "    </tr>\n",
       "    <tr>\n",
       "      <th>6</th>\n",
       "      <td>1</td>\n",
       "      <td>2</td>\n",
       "      <td>0</td>\n",
       "      <td>0</td>\n",
       "      <td>1</td>\n",
       "      <td>0</td>\n",
       "      <td>177</td>\n",
       "      <td>0</td>\n",
       "      <td>0</td>\n",
       "      <td>0</td>\n",
       "    </tr>\n",
       "    <tr>\n",
       "      <th>7</th>\n",
       "      <td>0</td>\n",
       "      <td>0</td>\n",
       "      <td>0</td>\n",
       "      <td>0</td>\n",
       "      <td>0</td>\n",
       "      <td>2</td>\n",
       "      <td>0</td>\n",
       "      <td>176</td>\n",
       "      <td>0</td>\n",
       "      <td>1</td>\n",
       "    </tr>\n",
       "    <tr>\n",
       "      <th>8</th>\n",
       "      <td>0</td>\n",
       "      <td>32</td>\n",
       "      <td>8</td>\n",
       "      <td>4</td>\n",
       "      <td>1</td>\n",
       "      <td>4</td>\n",
       "      <td>2</td>\n",
       "      <td>3</td>\n",
       "      <td>115</td>\n",
       "      <td>5</td>\n",
       "    </tr>\n",
       "    <tr>\n",
       "      <th>9</th>\n",
       "      <td>0</td>\n",
       "      <td>2</td>\n",
       "      <td>0</td>\n",
       "      <td>2</td>\n",
       "      <td>5</td>\n",
       "      <td>4</td>\n",
       "      <td>0</td>\n",
       "      <td>8</td>\n",
       "      <td>1</td>\n",
       "      <td>158</td>\n",
       "    </tr>\n",
       "  </tbody>\n",
       "</table>\n",
       "</div>"
      ],
      "text/plain": [
       "     0    1    2    3    4    5    6    7    8    9\n",
       "0  175    0    0    0    2    0    1    0    0    0\n",
       "1    0  150    4    2    1    1    1    3    4   16\n",
       "2    0    3  168    1    0    0    0    3    0    2\n",
       "3    2    1    0  163    0    4    0    8    0    5\n",
       "4    0    0    1    0  175    0    0    5    0    0\n",
       "5    0    0    1    0    2  164    1    0    0   14\n",
       "6    1    2    0    0    1    0  177    0    0    0\n",
       "7    0    0    0    0    0    2    0  176    0    1\n",
       "8    0   32    8    4    1    4    2    3  115    5\n",
       "9    0    2    0    2    5    4    0    8    1  158"
      ]
     },
     "execution_count": 158,
     "metadata": {},
     "output_type": "execute_result"
    }
   ],
   "source": [
    "predictions = np.argmax(SoftMaxActivation().forward(mlp.forward(digits)), axis=1)\n",
    "pd.DataFrame(confusion_matrix(targets, predictions))"
   ]
  },
  {
   "cell_type": "markdown",
   "metadata": {},
   "source": [
    "### Task 8 (3 pt.): Modelling real-life DL\n",
    "In this task you will train your own CNN for dogs vs cats classification task. The goal of this task is not to get the highest accuracy possible (try getting the highest accuracy possible though) but to model the real-life process of training a deep neural network."
   ]
  },
  {
   "cell_type": "markdown",
   "metadata": {},
   "source": [
    "<h3><center><span style=\"color:red;\">**IMPORTANT NOTICE**</span></center></h3>\n",
    "Training neural networks is a time consuming task and it can take days or even weeks. Try not to leave this task to the last day. It is not necessary for you to use GPU for this task, but using it may drastically reduce the time required for you to complete this task."
   ]
  },
  {
   "cell_type": "markdown",
   "metadata": {},
   "source": [
    "There is a good amount of datasets in [torchvision](https://pytorch.org/docs/stable/torchvision/datasets.html), but in practice, chances are that you wouldn't find the dataset for your particular problem, so you should be capable of writing `DataLoader` for your own dataset."
   ]
  },
  {
   "cell_type": "code",
   "execution_count": null,
   "metadata": {
    "collapsed": true
   },
   "outputs": [],
   "source": [
    "from torch.utils.data import DataLoader, Dataset\n",
    "import torch.nn.functional as F\n",
    "import PIL.Image as Image\n",
    "from torch import nn\n",
    "import numpy as np\n",
    "import torch.optim as optim\n",
    "import matplotlib.pyplot as plt\n",
    "import pandas as pd\n",
    "import torch\n",
    "from torchvision import transforms, utils"
   ]
  },
  {
   "cell_type": "markdown",
   "metadata": {},
   "source": [
    "Make sure you are using the right device."
   ]
  },
  {
   "cell_type": "code",
   "execution_count": null,
   "metadata": {
    "collapsed": true
   },
   "outputs": [],
   "source": [
    "device = torch.device(\"cuda:0\" if torch.cuda.is_available() else \"cpu\")\n",
    "print(device)"
   ]
  },
  {
   "cell_type": "markdown",
   "metadata": {},
   "source": [
    "First take a look at the data."
   ]
  },
  {
   "cell_type": "code",
   "execution_count": null,
   "metadata": {},
   "outputs": [],
   "source": [
    "dt = pd.read_csv(r'data/cats_dogs/train.csv')\n",
    "dt.head()"
   ]
  },
  {
   "cell_type": "code",
   "execution_count": null,
   "metadata": {},
   "outputs": [],
   "source": [
    "Image.open('data/' + dt['path'].iloc[1])"
   ]
  },
  {
   "cell_type": "markdown",
   "metadata": {},
   "source": [
    "Implement your [`Dataset`](https://pytorch.org/docs/stable/data.html#torch.utils.data.Dataset) class."
   ]
  },
  {
   "cell_type": "code",
   "execution_count": null,
   "metadata": {
    "collapsed": true
   },
   "outputs": [],
   "source": [
    "#Change class name \n",
    "class Your_class(Dataset):\n",
    "    \"\"\" Some documantation\"\"\"\n",
    "\n",
    "    def __init__(self,csv_file, root_dir, transform=None):\n",
    "        \"\"\"\n",
    "        Args:\n",
    "        \"\"\"\n",
    "        ### BEGIN Solution\n",
    "        # ... here you can load and initialize what you will need next\n",
    "        ### END Solution\n",
    "    \n",
    "\n",
    "    def __getitem__(self, idx):\n",
    "        ### BEGIN Solution\n",
    "        # ... don't forget to augment your data for training, using the `transform` parameter of the constructor\n",
    "        ### END Solution\n",
    "        return img, torch.tensor(y)\n",
    "    \n",
    "    \n",
    "    def __len__(self):\n",
    "        ### BEGIN Solution\n",
    "        # ... \n",
    "        ### END Solution"
   ]
  },
  {
   "cell_type": "markdown",
   "metadata": {},
   "source": [
    "Define the augmentation tranform and instantiate training and validation subsets of your `Dataset` and the correpsonding [`DataLoaders`](https://pytorch.org/docs/stable/data.html#torch.utils.data.DataLoader)."
   ]
  },
  {
   "cell_type": "code",
   "execution_count": null,
   "metadata": {
    "collapsed": true
   },
   "outputs": [],
   "source": [
    "data_transform = transforms.Compose([\n",
    "    ### BEGIN Solution\n",
    "    # ...\n",
    "    ### END Solution\n",
    "    ])\n",
    "\n",
    "### BEGIN Solution\n",
    "# dataset_train = \n",
    "# dataset_val = \n",
    "# train_loader = \n",
    "# val_loader = \n",
    "### END Solution"
   ]
  },
  {
   "cell_type": "markdown",
   "metadata": {},
   "source": [
    "Make sure that dataloader works as expected by observing one sample from it."
   ]
  },
  {
   "cell_type": "code",
   "execution_count": null,
   "metadata": {
    "collapsed": true
   },
   "outputs": [],
   "source": [
    "for X,y in train_loader:\n",
    "    print(X[0])\n",
    "    print(y[0])\n",
    "    plt.imshow(np.array(X[0,0,:,:]))\n",
    "    break"
   ]
  },
  {
   "cell_type": "markdown",
   "metadata": {},
   "source": [
    "Implement your model below. You can use any layers that you want, but in general the structure of your model should be\n",
    "1. convolutional feature extractor, followed by\n",
    "2. fully-connected classifier."
   ]
  },
  {
   "cell_type": "code",
   "execution_count": null,
   "metadata": {
    "collapsed": true
   },
   "outputs": [],
   "source": [
    "class model_name(nn.Module):\n",
    "    def __init__(self, inp_ch=1, outp_ch=2):\n",
    "        super().__init__()\n",
    "        ### BEGIN Solution\n",
    "        # ...\n",
    "        ### END Solution\n",
    "       \n",
    "\n",
    "\n",
    "    def forward(self, input):\n",
    "        ### BEGIN Solution\n",
    "        # ...\n",
    "        ### END Solution\n",
    "        "
   ]
  },
  {
   "cell_type": "markdown",
   "metadata": {},
   "source": [
    "Send your model to GPU, if you have it."
   ]
  },
  {
   "cell_type": "code",
   "execution_count": null,
   "metadata": {
    "collapsed": true
   },
   "outputs": [],
   "source": [
    "model = model_name().to(device)"
   ]
  },
  {
   "cell_type": "markdown",
   "metadata": {},
   "source": [
    "Implement your loss function below, or use the predefined loss, suitable for this task."
   ]
  },
  {
   "cell_type": "code",
   "execution_count": null,
   "metadata": {
    "collapsed": true
   },
   "outputs": [],
   "source": [
    "### BEGIN Solution\n",
    "# criterion = #\n",
    "### END Solution"
   ]
  },
  {
   "cell_type": "markdown",
   "metadata": {},
   "source": [
    "Try two different [optimizers](http://ruder.io/optimizing-gradient-descent/index.html) and choose one. For the optimizer of your choice, try two different sets of parameters (e.g learning rate). Explain both of your choices and back them with the learning performance of the network (see the rest of the task).\n",
    "\n",
    "In this parts of the task you may try more than two options, but, please, leave in your solution only the results for two different optimizers and two different sets of parameters."
   ]
  },
  {
   "cell_type": "code",
   "execution_count": null,
   "metadata": {
    "collapsed": true
   },
   "outputs": [],
   "source": [
    "### BEGIN Solution\n",
    "#optimizer = \n",
    "### END Solution"
   ]
  },
  {
   "cell_type": "markdown",
   "metadata": {},
   "source": [
    "You may finally train you model. Don't forget to:\n",
    "1. monitor its training and validation performance *during training*, i.e plot the loss functions and prediction accuracy for train and validation sets, to make sure that your model doesn't learn complete nonsense; **do not** include tons of learning curves in your homework solution; (in real-life, you may find [`tensorboardX`](https://github.com/lanpa/tensorboardX) extremely useful for this task);\n",
    "2. visualize its training and validation performance *after training*, to demonstrate that you have accomplished the task;\n",
    "3. save the state of your model during the training, to use the best one at the end; you may find useful this [tutorial on saving and loading models](https://pytorch.org/tutorials/beginner/saving_loading_models.html);\n",
    "4. send the input and target data to the same device as your model.\n",
    "\n",
    "Your model should be able to show *at least 75% validation accuracy*.\n",
    "\n",
    "You may also find useful the following parts of documentation: [`Module.train`](https://pytorch.org/docs/stable/nn.html#torch.nn.Module.train), [`Module.eval`](https://pytorch.org/docs/stable/nn.html#torch.nn.Module.eval), [`Module.state_dict`](https://pytorch.org/docs/stable/nn.html#torch.nn.Module.state_dict), [`Module.load_state_dict`](https://pytorch.org/docs/stable/nn.html#torch.nn.Module.load_state_dict)."
   ]
  },
  {
   "cell_type": "code",
   "execution_count": null,
   "metadata": {
    "collapsed": true
   },
   "outputs": [],
   "source": [
    "### BEGIN Solution\n",
    "### END Solution"
   ]
  },
  {
   "cell_type": "markdown",
   "metadata": {},
   "source": [
    "### Task 9 (1 pt.): Bad activation function\n",
    "Using your conclusions from the <span style=\"color:red;\">Task 6</span>, choose the worst activation function and replace all activations in your model from the previous <span style=\"color:red;\">Task 8</span> with this one. Demonstrate the training and validation performance of this version of the model."
   ]
  },
  {
   "cell_type": "code",
   "execution_count": null,
   "metadata": {
    "collapsed": true
   },
   "outputs": [],
   "source": []
  }
 ],
 "metadata": {
  "kernelspec": {
   "display_name": "Python 3",
   "language": "python",
   "name": "python3"
  },
  "language_info": {
   "codemirror_mode": {
    "name": "ipython",
    "version": 3
   },
   "file_extension": ".py",
   "mimetype": "text/x-python",
   "name": "python",
   "nbconvert_exporter": "python",
   "pygments_lexer": "ipython3",
   "version": "3.7.1"
  }
 },
 "nbformat": 4,
 "nbformat_minor": 2
}
