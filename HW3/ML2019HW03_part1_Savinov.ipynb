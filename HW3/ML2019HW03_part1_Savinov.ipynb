{
 "cells": [
  {
   "cell_type": "markdown",
   "metadata": {
    "colab_type": "text",
    "id": "cNpOjvEOnMw8"
   },
   "source": [
    "# Home Assignment No. 3: Part 1 "
   ]
  },
  {
   "cell_type": "markdown",
   "metadata": {
    "colab_type": "text",
    "id": "DylSfkVnnMxB"
   },
   "source": [
    "In this part of the homework you are to solve several problems related to machine learning algorithms.\n",
    "* For every separate problem you can get only 0 points or maximal points for this problem. There are **NO INTERMEDIATE scores**.\n",
    "* Your solution must me **COMPLETE**, i.e. contain all required formulas/proofs/detailed explanations.\n",
    "* You must write your solution for any problem just right after the words **BEGIN SOLUTION**. Attaching pictures of your handwriting is allowed, but **highly discouraged**.\n",
    "* If you want an easy life, you have to use **BUILT-IN METHODS** of `sklearn` library instead of writing tons of our yown code. There exists a class/method for almost everything you can imagine (related to this homework).\n",
    "* To do some tasks in this part of homework, you have to write **CODE** directly inside specified places inside notebook **CELLS**.\n",
    "* In some problems you may be asked to provide short discussion of the results. In this cases you have to create **MARKDOWN** cell with your comments right after the your code cell.\n",
    "* Your **SOLUTION** notebook **MUST BE REPRODUCIBLE**, i.e. if the reviewer decides to execute `Kernel` -> `Restart Kernel and Run All Cells`, after all the computation he will obtain exactly the same solution (with all the corresponding plots) as in your uploaded notebook. For this purpose, we suggest to fix random `seed` or (better) define `random_state=` inside every algorithm that uses some pseudorandomness.\n",
    "\n",
    "* Your code must be clear to the reviewer. For this purpose, try to include neccessary comments inside the code. But remember: **GOOD CODE MUST BE SELF-EXPLANATORY** without any additional comments.\n",
    "* The are problems with \\* mark - they are not obligatory. You can get **EXTRA POINTS** for solving them.\n",
    "## $\\LaTeX$ in Jupyter\n",
    "Jupyter has constantly improving $\\LaTeX$ support. Below are the basic methods to\n",
    "write **neat, tidy, and well typeset** equations in your notebooks:\n",
    "* to write an **inline** equation use \n",
    "```markdown\n",
    "$ you latex equation here $\n",
    "```\n",
    "* to write an equation, that is **displayed on a separate line** use \n",
    "```markdown\n",
    "$$ you latex equation here $$\n",
    "```\n",
    "* to write a **block of equations** use \n",
    "```markdown\n",
    "\\begin{align}\n",
    "    left-hand-side\n",
    "        &= right-hand-side on line 1\n",
    "        \\\\\n",
    "        &= right-hand-side on line 2\n",
    "        \\\\\n",
    "        &= right-hand-side on the last line\n",
    "\\end{align}\n",
    "```\n",
    "The **ampersand** (`&`) aligns the equations horizontally and the **double backslash**\n",
    "(`\\\\`) creates a new line."
   ]
  },
  {
   "cell_type": "markdown",
   "metadata": {
    "colab_type": "text",
    "id": "y9C0uwxInMxE"
   },
   "source": [
    "Write your theoretical derivations within such blocks:\n",
    "```markdown\n",
    "**BEGIN Solution**\n",
    "\n",
    "<!-- >>> your derivation here <<< -->\n",
    "\n",
    "**END Solution**\n",
    "```"
   ]
  },
  {
   "cell_type": "markdown",
   "metadata": {
    "colab_type": "text",
    "id": "Nm3YQTIznMxG"
   },
   "source": [
    "Please, write your implementation within the designated blocks:\n",
    "```python\n",
    "...\n",
    "### BEGIN Solution\n",
    "\n",
    "# >>> your solution here <<<\n",
    "\n",
    "### END Solution\n",
    "...\n",
    "```\n"
   ]
  },
  {
   "cell_type": "markdown",
   "metadata": {
    "colab_type": "text",
    "id": "hgWxmqD5nMxJ"
   },
   "source": [
    "<br>"
   ]
  },
  {
   "cell_type": "code",
   "execution_count": 1,
   "metadata": {
    "colab": {},
    "colab_type": "code",
    "id": "ue7q2-aInMxL"
   },
   "outputs": [],
   "source": [
    "import numpy as np\n",
    "import pandas as pd\n",
    "\n",
    "import torch\n",
    "\n",
    "%matplotlib inline\n",
    "import matplotlib.pyplot as plt"
   ]
  },
  {
   "cell_type": "markdown",
   "metadata": {
    "colab_type": "text",
    "id": "-ki5aED0nMxT"
   },
   "source": [
    "<br>"
   ]
  },
  {
   "cell_type": "markdown",
   "metadata": {
    "colab_type": "text",
    "id": "PiSw4M6OnMxV"
   },
   "source": [
    "# Bayesian Models. GLM"
   ]
  },
  {
   "cell_type": "markdown",
   "metadata": {
    "colab_type": "text",
    "id": "8Q8XP2h_nMxY"
   },
   "source": [
    "## Task 1 (1 pt.)\n",
    "\n",
    "Consider a univariate Gaussian distribution $\\mathcal{N}(x; \\mu, \\tau^{-1})$.\n",
    "Let's define Gaussian-Gamma prior for parameters $(\\mu, \\tau)$:\n",
    "\n",
    "\\begin{equation}\n",
    "    p(\\mu, \\tau)\n",
    "        = \\mathcal{N}(\\mu; \\mu_0, (\\beta \\tau)^{-1})\n",
    "            \\otimes \\text{Gamma}(\\tau; a, b)\n",
    "        \\,.\n",
    "\\end{equation}\n",
    "\n",
    "Find the posterior distribution of $(\\mu, \\tau)$ after observing $X = (x_1, \\dots, x_n)$."
   ]
  },
  {
   "cell_type": "markdown",
   "metadata": {
    "colab_type": "text",
    "id": "7Z4HneBknMxa"
   },
   "source": [
    "**BEGIN Solution**\n",
    "\n",
    "$$ p(\\mu,\\tau | X) = \\frac{p(X|\\mu, \\tau) p(\\mu, \\tau)}{p(X)} = \\frac{1}{Z} p(X|\\mu, \\tau) p(\\mu, \\tau) $$\n",
    "$Z$ is normalization constant.\n",
    "$$p(X|\\mu, \\tau) = \\prod_{i=1}^{n}p(x_i| \\mu, \\tau) = \\left(\\frac{\\tau}{2\\pi}\\right)^{\\frac{n}{2}}\\exp\\left(-\\frac{\\tau}{2}\\sum_{i=1}^{n}(x_i - \\mu)^2\\right) = \\left(\\frac{\\tau}{2\\pi}\\right)^{\\frac{n}{2}}\\exp\\left(-\\frac{\\tau}{2}\\sum_{i=1}^{n}(x_i - \\mu+\\overline{x} -\\overline{x})^2\\right) = $$ \n",
    "$$ = \\left(\\frac{\\tau}{2\\pi}\\right)^{\\frac{n}{2}}\\exp\\left(-\\frac{\\tau}{2}[n(\\mu-\\overline{x})^2+\\sum_{i=1}^{n}(x_i -\\overline{x})^2]\\right) $$\n",
    "$$\n",
    "p(X|\\mu, \\tau) p(\\mu, \\tau) = \\frac{b^a}{A} \\left(\\frac{\\tau}{2\\pi}\\right)^{\\frac{n}{2}}\\exp\\left(-\\frac{\\tau}{2}[n(\\mu-\\overline{x})^2+\\sum_{i=1}^{n}(x_i -\\overline{x})^2]\\right) \\sqrt{\\frac{\\beta\\tau}{2\\pi}} \\exp(-\\frac{\\beta \\tau}{2} (\\mu-\\mu_0)^2)\\tau^{a-1}\\exp(-\\tau b) =$$ \n",
    "\n",
    "Firstly, consider the power of $\\tau$: $ \\tau^{n/2} \\tau^{a-1} = \\tau^{a_n-1},\\:a_n = a+\\frac{n}{2}.$ Now consider the power of exponents:\n",
    "$$\n",
    "-\\frac{\\tau}{2}[n(\\mu-\\overline{x})^2+\\sum_{i=1}^{n}(x_i -\\overline{x})^2+\\beta(\\mu-\\mu_0)^2+2b]\n",
    "$$\n",
    "$$\n",
    "n(\\mu-\\overline{x})^2+\\beta(\\mu-\\mu_0)^2=(n+\\beta)(\\mu-\\mu_n)^2-\\frac{(n\\overline{x}+\\beta\\mu_0)^2}{n+\\beta}\n",
    "+n\\overline{x}^2+\\beta\\mu_0^2 = \\beta_n(\\mu-\\mu_n)^2-\\frac{(n\\overline{x}+\\beta\\mu_0)^2}{n+\\beta}\n",
    "+n\\overline{x}^2+\\beta\\mu_0^2, \\;$$ \n",
    "$$\\beta_n=\\beta+n,\\;\\mu_n=\\frac{n\\overline{x}+\\beta\\mu_0}{n+\\beta}\n",
    "$$\n",
    "$$\n",
    "2b+ \\sum_{i=1}^{n}(x_i -\\overline{x})^2-\\frac{(n\\overline{x}+\\beta\\mu_0)^2}{n+\\beta}+n\\overline{x}^2+\\beta\\mu_0^2 = 2b+\\sum_{i=1}^{n}(x_i -\\overline{x})^2+\\frac{n\\beta(\\mu_0-\\overline{x})^2}{n+\\beta}=2b_n\n",
    "$$\n",
    "$$\n",
    "b_n = b+\\frac{1}{2}[\\sum_{i=1}^{n}(x_i -\\overline{x})^2+\\frac{n\\beta(\\mu_0-\\overline{x})^2}{n+\\beta}]\n",
    "$$\n",
    "Due to these new parameters of distribution, posterior distribution of $(\\mu,\\tau)$ is Gaussian-Gamma, but with new parameters:\n",
    "$$\n",
    "p(\\mu,\\tau | X) = \\frac{1}{B} \\mathcal{N}(\\mu; \\mu_n, (\\beta_n \\tau)^{-1})\\otimes \\text{Gamma}(\\tau; a_n, b_n)$$\n",
    "\n",
    "**END Solution**"
   ]
  },
  {
   "cell_type": "markdown",
   "metadata": {
    "colab_type": "text",
    "id": "iWF7w-r9nMxc"
   },
   "source": [
    "<br>"
   ]
  },
  {
   "cell_type": "markdown",
   "metadata": {
    "colab_type": "text",
    "id": "oBFlhXsEnMxe"
   },
   "source": [
    "## Task 2 (1 + 1 + 1 = 3 pt.)\n",
    "\n",
    "Evaluate the following integral using the Laplace approximation:\n",
    "\\begin{equation}\n",
    "    x \\mapsto \\int \\sigma(w^T x) \\mathcal{N}(w; 0, \\Sigma) dw \\,,\n",
    "\\end{equation}\n",
    "for $x = \\bigl(\\tfrac23, \\tfrac16, \\tfrac16\\bigr)\\in \\mathbb{R}^3$ and \n",
    "\\begin{equation}\n",
    "    \\Sigma\n",
    "        = \\begin{pmatrix}\n",
    "             1    & -0.25 & 0.75 \\\\\n",
    "            -0.25 &  1    & 0.5  \\\\\n",
    "             0.75 &  0.5  & 2\n",
    "           \\end{pmatrix}\n",
    "        \\,.\n",
    "\\end{equation}"
   ]
  },
  {
   "cell_type": "markdown",
   "metadata": {
    "colab_type": "text",
    "id": "l7lAH-zonMxg"
   },
   "source": [
    "### Task 2.1 (1 pt.)\n",
    "Use the Hessian matrix computed numericaly via finite differences. (Check out [Numdifftools](https://pypi.python.org/pypi/Numdifftools))"
   ]
  },
  {
   "cell_type": "code",
   "execution_count": 4,
   "metadata": {
    "colab": {},
    "colab_type": "code",
    "id": "lZB9XRRfnMxi"
   },
   "outputs": [],
   "source": [
    "import numdifftools as nd\n",
    "from scipy.optimize import minimize\n",
    "import numpy as np\n",
    "\n",
    "%matplotlib inline\n",
    "import matplotlib.pyplot as plt"
   ]
  },
  {
   "cell_type": "code",
   "execution_count": 43,
   "metadata": {
    "colab": {},
    "colab_type": "code",
    "id": "qpU0-sljnMxo",
    "outputId": "5abd0586-4aae-4836-f53d-e35e5565f9f4",
    "scrolled": true
   },
   "outputs": [
    {
     "name": "stdout",
     "output_type": "stream",
     "text": [
      "The value of integral is: 0.4979196248470498\n"
     ]
    }
   ],
   "source": [
    "### BEGIN Solution\n",
    "def func(w):\n",
    "    x = np.array([2./3, 1./6, 1./6])\n",
    "    cov_matrix = np.array([[1, -0.25, 0.75], [-0.25, 1, 0.5], [0.75, 0.5, 2]])\n",
    "    sigma = 1/(1+np.exp(-np.dot(w, x)))\n",
    "    gaussian = np.exp(-np.dot(w, np.linalg.inv(cov_matrix).dot(w))/2)/((2*np.pi)**(3/2)*np.sqrt(np.linalg.det(cov_matrix)))\n",
    "    return sigma*gaussian\n",
    "\n",
    "def minus_log_func(w):\n",
    "    return -np.log(func(w))\n",
    "\n",
    "w0 = minimize(minus_log_func, np.array([1, 1, 1]), method = 'Nelder-Mead')\n",
    "w_opt = w0.x\n",
    "\n",
    "hessian = nd.core.Hessian(minus_log_func, order=4)(w_opt)\n",
    "integral_nd = func(w_opt)*(2*np.pi)**(3/2)/np.sqrt(np.linalg.det(hessian))\n",
    "\n",
    "print('The value of integral is:', intergal_nd)\n",
    "### END Solution"
   ]
  },
  {
   "cell_type": "markdown",
   "metadata": {
    "colab_type": "text",
    "id": "DFNKVQyHnMxu"
   },
   "source": [
    "<br>"
   ]
  },
  {
   "cell_type": "markdown",
   "metadata": {
    "colab_type": "text",
    "id": "S7RVSkYOnMxw"
   },
   "source": [
    "### Task 2.2 (1 pt.)\n",
    "Use the diagonal approximation of the Hessian computed by autodifferentiation\n",
    "in **pytorch**."
   ]
  },
  {
   "cell_type": "code",
   "execution_count": 14,
   "metadata": {
    "colab": {},
    "colab_type": "code",
    "id": "e6GSB5WKnMxx"
   },
   "outputs": [],
   "source": [
    "import torch\n",
    "from torch.autograd import Variable, grad"
   ]
  },
  {
   "cell_type": "code",
   "execution_count": 45,
   "metadata": {},
   "outputs": [
    {
     "name": "stdout",
     "output_type": "stream",
     "text": [
      "The value of integral is: 0.8408207184293238\n"
     ]
    }
   ],
   "source": [
    "def mlog_func_t(w): \n",
    "    x=np.array([2./3,1./6,1./6]) \n",
    "    cov_matrix=np.array([[1,-0.25,0.75],[-0.25,1,0.5],[-.75,0.5,2]])\n",
    "    sigma=torch.sigmoid(torch.matmul(w, torch.from_numpy(x).detach()))\n",
    "    gaussian=torch.exp(-1/2*torch.matmul(torch.matmul(w, torch.from_numpy(np.linalg.inv(cov_matrix)).detach()), w))/((2*np.pi)**(3/2)*np.sqrt(np.linalg.det(cov_matrix)))  \n",
    "    return -torch.log(sigma * gaussian) \n",
    "\n",
    "w0 = Variable(torch.tensor(w_opt), requires_grad = True) \n",
    "grads = grad(mlog_func_t(w0), w0, create_graph = True) \n",
    "det_H = 1 \n",
    "\n",
    "for i in range(3): \n",
    "    grads2 = grad(grads[0][i], w0, retain_graph=True) \n",
    "    det_H = det_H*grads2[0][i].item() \n",
    "\n",
    "integral_torch=func(w_opt)*(2*np.pi)**(3/2)/np.sqrt(det_H)\n",
    "print('The value of integral is:', integral_torch)"
   ]
  },
  {
   "cell_type": "markdown",
   "metadata": {
    "colab_type": "text",
    "id": "9fpp3b8-nMyF"
   },
   "source": [
    "<br>"
   ]
  },
  {
   "cell_type": "markdown",
   "metadata": {
    "colab_type": "text",
    "id": "0Hel7srxnMyG"
   },
   "source": [
    "### Task 2.3 (1 pt.)\n",
    "\n",
    "Compare the results comparing the `absolute errors` of the results (this is possible with Monte-Carlo estimate of the integral). Write 1-2 sentences in the results discussion."
   ]
  },
  {
   "cell_type": "code",
   "execution_count": 47,
   "metadata": {
    "colab": {},
    "colab_type": "code",
    "id": "VEhDFgsWnMyI",
    "outputId": "71a49269-cc62-42c4-d65d-50a7d434d281"
   },
   "outputs": [
    {
     "name": "stdout",
     "output_type": "stream",
     "text": [
      "Absolute error for numdifftools: 0.009\n",
      "Absolute error for torch: 0.351\n"
     ]
    }
   ],
   "source": [
    "### BEGIN Solution\n",
    "int_MC = 0\n",
    "N=100000\n",
    "for i in range(N):\n",
    "    w = np.random.uniform(-10, 10, 3)\n",
    "    int_MC+=func(w)\n",
    "    \n",
    "int_MC = int_MC*20**3/N\n",
    "print('Absolute error for numdifftools: %.3f' % (abs(int_MC-integral_nd)))\n",
    "print('Absolute error for torch: %.3f' % (abs(int_MC-integral_torch)))\n",
    "### END Solution"
   ]
  },
  {
   "cell_type": "markdown",
   "metadata": {
    "colab_type": "text",
    "id": "A7GdEmJ6nMyO"
   },
   "source": [
    "**BEGIN Solution**\n",
    "\n",
    "The big error in estimation with torch is caused by diagonal appoximation of hessian. Difference between Monte-Carlo method and Laplace estimation using numdifftools can be caused by precision of Laplace approximation and stohastic nature of Monte-Carlo \n",
    "\n",
    "**END Solution**"
   ]
  },
  {
   "cell_type": "markdown",
   "metadata": {
    "colab_type": "text",
    "id": "zpqVWVCWnMyQ"
   },
   "source": [
    "<br>"
   ]
  },
  {
   "cell_type": "markdown",
   "metadata": {
    "colab_type": "text",
    "id": "ZCuLxPfgnMyR"
   },
   "source": [
    "# Gaussian Processes"
   ]
  },
  {
   "cell_type": "markdown",
   "metadata": {
    "colab_type": "text",
    "id": "-5nxT9-8nMyT"
   },
   "source": [
    "## Task 3 (1 + 2 = 3 pt.)"
   ]
  },
  {
   "cell_type": "markdown",
   "metadata": {
    "colab_type": "text",
    "id": "-XH8aFewnMyW"
   },
   "source": [
    "### Task 3.1 (1 pt.)\n",
    "\n",
    "Assuimng the matrices $A \\in \\mathbb{R}^{n \\times n}$ and $D \\in \\mathbb{R}^{d \\times d}$\n",
    "are invertible, using **gaussian elimination** find the inverse matrix for the following\n",
    "block matrix:\n",
    "\\begin{equation}\n",
    "    \\begin{pmatrix} A & B \\\\ C & D \\end{pmatrix} \\,,\n",
    "\\end{equation}\n",
    "where $C \\in \\mathbb{R}^{d \\times n}$ and $B \\in \\mathbb{R}^{n \\times d}$."
   ]
  },
  {
   "cell_type": "markdown",
   "metadata": {
    "colab_type": "text",
    "id": "Wt3D_N8nnMyY"
   },
   "source": [
    "**BEGIN Solution**\n",
    "\n",
    "$$  \\left(\\begin{array}{c c|c c} A & B & I_n & 0\\\\ C & D & 0 & I_d \\end{array}\\right) \\rightarrow \\left(\\begin{array}{c c|c c} CA^{-1}A & CA^{-1}B & CA^{-1} & 0\\\\ C & D & 0 & I_d \\end{array}\\right) \\rightarrow \\left(\\begin{array}{c c|c c} I_n & A^{-1}B & A^{-1} & 0\\\\ 0 & D-CA^{-1}B & -CA^{-1} & I_d \\end{array}\\right) \\rightarrow \\left(\\begin{array}{c c|c c} I_n & A^{-1}B & A^{-1} & 0\\\\ 0 & A^{-1}B(D-CA^{-1}B)^{-1}(D-CA^{-1}B) & -A^{-1}B(D-CA^{-1}B)^{-1}CA^{-1} & A^{-1}B(D-CA^{-1}B)^{-1} \\end{array}\\right) \\rightarrow \\left(\\begin{array}{c c|c c} I_n & 0 & A^{-1}+A^{-1}B(D-CA^{-1}B)^{-1}CA^{-1} & -A^{-1}B(D-CA^{-1}B)^{-1}\\\\ 0 & I_d & -(D-CA^{-1}B)^{-1}CA^{-1} & (D-CA^{-1}B)^{-1} \\end{array}\\right)$$\n",
    "$$\n",
    "$$\n",
    "$$\n",
    "\\begin{pmatrix} A & B \\\\ C & D \\end{pmatrix}^{-1} = \\begin{pmatrix} A^{-1}+A^{-1}B(D-CA^{-1}B)^{-1}CA^{-1} & -A^{-1}B(D-CA^{-1}B)^{-1}\\\\ -(D-CA^{-1}B)^{-1}CA^{-1} & (D-CA^{-1}B)^{-1} \\end{pmatrix}\n",
    "$$\n",
    "\n",
    "**END Solution**"
   ]
  },
  {
   "cell_type": "markdown",
   "metadata": {
    "colab_type": "text",
    "id": "yGNZnHWZnMyZ"
   },
   "source": [
    "<br>"
   ]
  },
  {
   "cell_type": "markdown",
   "metadata": {
    "colab_type": "text",
    "id": "CMwvo0gJnMyb"
   },
   "source": [
    "### Task 3.2 (2 pt.)\n",
    "\n",
    "Assume that the function $y(x)$, $x \\in \\mathbb{R}^d$, is a realization of the Gaussian\n",
    "Process $GP\\bigl(0; K(\\cdot, \\cdot)\\bigr)$ with $K(a, b) = \\exp({- \\gamma \\|a - b\\|_2^2}))$.\n",
    "\n",
    "Suppose two datasets were observed: **noiseless** ${D_0}$ and **noisy** ${D_1}$\n",
    "\\begin{aligned}\n",
    "    & D_0 = \\bigl(x_i, y(x_i) \\bigr)_{i=1}^{n} \\,, \\\\\n",
    "    & D_1 = \\bigl(x^\\prime_i, y(x^\\prime_i) + \\varepsilon_i \\bigr)_{i=1}^{m} \\,,\n",
    "\\end{aligned}\n",
    "where $\\varepsilon_i \\sim \\text{ iid } \\mathcal{N}(0, \\sigma^2)$, independent of process $y$.\n",
    "\n",
    "Derive the conditional distribution of $y(x) \\big\\vert_{D_0, D_1}$ at a new $x$."
   ]
  },
  {
   "cell_type": "markdown",
   "metadata": {
    "colab_type": "text",
    "id": "INPPkWqWnMyd"
   },
   "source": [
    "**BEGIN Solution**\n",
    "\n",
    "Let's consider the joint datasets with $n+m$ number of samples, where last $m$ samples have noise $\\varepsilon_i \\sim \\text{ iid } \\mathcal{N}(0, \\sigma^2)$.\n",
    "\n",
    "The covariation function matrix is:\n",
    "$$\n",
    "K = \\begin{pmatrix} K_{nn} & K_{mn}^{\\top} \\\\ K_{mn} & K_{mm} \\end{pmatrix}, K_{nn}(x_i, x_j) = \\bigl[\\exp({- \\gamma \\|x_i - x_j\\|_2^2}) \\bigr]_{i, j=1}^{n}, K_{mn}(x_i, x_j) = \\bigl[\\exp({- \\gamma \\|x_i - x_j\\|_2^2}) \\bigr]_{i=1, j=1}^{m,n},\\\\ K_{mm}(x_i, x_j) = \\bigl[\\exp({- \\gamma \\|x_i - x_j\\|_2^2}) \\bigr]_{i, j=1}^{m}\n",
    "$$\n",
    "The \"noise\" matrix is:\n",
    "$$\\begin{pmatrix} 0 & 0 \\\\ 0 & \\sigma^2 I_{m} \\end{pmatrix}$$\n",
    "How it was in lecture, let's denote $x_*$ - test sample, $y_*=y(x_*)$. $\\hat{y}$ is the vector of all $y$ from $D_0, D_1$.\n",
    "Let's denote $K_{**}= \\exp(- \\gamma \\|x_* - x_*\\|_2^2)=1$. $k_* = \\bigl[\\exp(- \\gamma \\|x_* - x_j\\|_2^2) \\bigr]_{j=1}^{n+m}$.\n",
    "\n",
    "Due to posterior distribution of $y_*$ from lecture we have the following distribution:\n",
    "\n",
    "$$p(y_*|D_0, D_1) = \\mathcal{N}(y_*|\\mu_*, \\sigma_*^2)$$\n",
    "\n",
    "$$\\mu_* = k_*^{\\top} \\begin{pmatrix} K_{nn} & K_{mn}^{\\top} \\\\ K_{mn} & K_{mm} +\\sigma^2 I_{m} \\end{pmatrix}^{-1}\\hat{y}$$\n",
    "$$\\sigma_*^2=K_{**}- k_*^{\\top} \\begin{pmatrix} K_{nn} & K_{mn}^{\\top} \\\\ K_{mn} & K_{mm} +\\sigma^2 I_{m} \\end{pmatrix}^{-1}k_*$$\n",
    "\n",
    "**END Solution**"
   ]
  },
  {
   "cell_type": "markdown",
   "metadata": {
    "colab_type": "text",
    "id": "e5n55orWnMye"
   },
   "source": [
    "<br>"
   ]
  },
  {
   "cell_type": "markdown",
   "metadata": {
    "colab_type": "text",
    "id": "xumi3334nMyg"
   },
   "source": [
    "## Task 4 (1 + 2 = 3 pt.)"
   ]
  },
  {
   "cell_type": "markdown",
   "metadata": {
    "colab_type": "text",
    "id": "iDg_E5ptnMyh"
   },
   "source": [
    "### Task 4.1 (1 pt.)"
   ]
  },
  {
   "cell_type": "markdown",
   "metadata": {
    "colab_type": "text",
    "id": "ufZ2D7imnMyl"
   },
   "source": [
    "> In the late 1950’s Charles Keeling invented an accurate way to measure atmospheric $CO_2$ concentration and began taking regular measurements at the Mauna Loa observatory.\n"
   ]
  },
  {
   "cell_type": "markdown",
   "metadata": {
    "colab_type": "text",
    "id": "1_eMlPeunMyn"
   },
   "source": [
    "Take `monthly_co2_mlo.csv` file, load it and prepare the data."
   ]
  },
  {
   "cell_type": "markdown",
   "metadata": {
    "colab_type": "text",
    "id": "A3cXng10nMyo"
   },
   "source": [
    "0. Load the `CO2 [ppm]` time series\n",
    "1. Replace $-99.99$ with **NaN** and drop the missing observations\n",
    "2. Split the time series into train and test\n",
    "3. Normalize the target value by fitting a transformation on the train\n",
    "4. Plot the resulting target against the time index"
   ]
  },
  {
   "cell_type": "code",
   "execution_count": 4,
   "metadata": {
    "colab": {
     "base_uri": "https://localhost:8080/",
     "height": 75,
     "resources": {
      "http://localhost:8080/nbextensions/google.colab/files.js": {
       "data": "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",
       "headers": [
        [
         "content-type",
         "application/javascript"
        ]
       ],
       "ok": true,
       "status": 200,
       "status_text": ""
      }
     }
    },
    "colab_type": "code",
    "id": "4MaDHLuwnMyq",
    "outputId": "63154f56-eba8-4782-eddb-6872b810fce4",
    "scrolled": true
   },
   "outputs": [],
   "source": [
    "import pandas as pd\n",
    "import numpy as np\n",
    "from sklearn.model_selection import train_test_split\n",
    "from sklearn.preprocessing import StandardScaler\n",
    "\n",
    "### BEGIN Solution\n",
    "X = pd.read_csv(r'data/monthly_co2_mlo.csv')\n",
    "\n",
    "for column in X.columns:\n",
    "    for i in X.index:\n",
    "        if X[column][i] == -99.99:\n",
    "            X[column][i] = 'NaN'\n",
    "\n",
    "X = X.dropna(axis=0)\n",
    "\n",
    "y = X['CO2 [ppm]']\n",
    "X = pd.DataFrame(X['year'])\n",
    "X_train, X_test, y_train, y_test = train_test_split(X, y, shuffle=False, test_size=0.2, random_state=42)\n",
    "\n",
    "scaler = StandardScaler()\n",
    "y_test = np.array(y_test).reshape([-1, 1])\n",
    "y_train = np.array(y_train).reshape([-1, 1])\n",
    "\n",
    "scaler.fit(y_train)\n",
    "y_train = scaler.transform(y_train)\n",
    "y_test = scaler.transform(y_test)\n",
    "\n",
    "begin = float(np.min(X)) \n",
    "X_test = np.array(X_test)\n",
    "X_test = X_test-begin\n",
    "X_train = np.array(X_train)\n",
    "X_train = X_train-begin\n",
    "### END Solution"
   ]
  },
  {
   "cell_type": "code",
   "execution_count": 5,
   "metadata": {
    "colab": {
     "base_uri": "https://localhost:8080/",
     "height": 283
    },
    "colab_type": "code",
    "id": "uoWyj7omnMyw",
    "outputId": "38d7aac7-6c2b-4f1f-bd84-7f5bf738cc32",
    "scrolled": true
   },
   "outputs": [
    {
     "data": {
      "image/png": "[encoded data removed]",
      "text/plain": [
       "<Figure size 1008x288 with 1 Axes>"
      ]
     },
     "metadata": {
      "needs_background": "light"
     },
     "output_type": "display_data"
    }
   ],
   "source": [
    "# >>> your code here <<<\n",
    "plt.figure(figsize=(14, 4))\n",
    "plt.plot(X_train, y_train, color='blue')\n",
    "plt.plot(X_test, y_test, color='orange')\n",
    "plt.grid(True)\n",
    "plt.axvline(x=float(np.min(X_test)), color='black')\n",
    "plt.xlabel('Train and test split', fontsize=14)\n",
    "plt.ylabel(r'CO$_2$', fontsize=14);"
   ]
  },
  {
   "cell_type": "markdown",
   "metadata": {
    "colab_type": "text",
    "id": "nWHoa8SlnMy6"
   },
   "source": [
    "<br>"
   ]
  },
  {
   "cell_type": "markdown",
   "metadata": {
    "colab_type": "text",
    "id": "DIrzBwd5nMy8"
   },
   "source": [
    "### Task 4.2 (2 pt.)\n",
    "\n",
    "Use [**GPy**](https://pypi.python.org/pypi/GPy) library for training and prediction. Fit a GP and run the predict on the test. Useful kernels to combine: `GPy.kern.RBF, GPy.kern.Poly, GPy.kern.StdPeriodic, GPy.kern.White, GPy.kern.Linear`. \n",
    "\n",
    "1. Plot mean and confidence interval of the prediction. \n",
    "2. Inspect them on normality by scatter plot: plot predicted points/time series against true values. \n",
    "3. Estimate the prediction error with `r2_score`. R2-score accepted > 0.83 on test sample."
   ]
  },
  {
   "cell_type": "code",
   "execution_count": 0,
   "metadata": {
    "colab": {},
    "colab_type": "code",
    "id": "Ip84CKuFnMy-"
   },
   "outputs": [],
   "source": [
    "from GPy.models import GPRegression\n",
    "from GPy.kern import RBF, Poly, StdPeriodic, White, Linear\n",
    "from sklearn.metrics import r2_score"
   ]
  },
  {
   "cell_type": "code",
   "execution_count": 24,
   "metadata": {
    "colab": {
     "base_uri": "https://localhost:8080/",
     "height": 293
    },
    "colab_type": "code",
    "id": "mP1DvfXEnMzC",
    "outputId": "2f299f8f-54f3-4e93-9fc1-7c458c031f76"
   },
   "outputs": [
    {
     "data": {
      "image/png": "[encoded data removed]",
      "text/plain": [
       "<Figure size 1120x320 with 1 Axes>"
      ]
     },
     "metadata": {
      "tags": []
     },
     "output_type": "display_data"
    }
   ],
   "source": [
    "### BEGIN Solution\n",
    "kern = RBF(1)*StdPeriodic(1)+RBF(1)\n",
    "regr = GPRegression(X_train, y_train, kern)\n",
    "regr.optimize()\n",
    "y_pred_test = regr.predict(X_test)\n",
    "\n",
    "fig, ax = plt.subplots(figsize=(14, 4), dpi=80, frameon=False)\n",
    "regr.plot_confidence(label='Confidence', ax=ax, alpha=0.3, color='green', lower=2.5, upper=97.5)\n",
    "regr.plot_mean(label='Mean', ax=ax)\n",
    "regr.plot_data(label='Data', ax=ax)\n",
    "ax.set_xbound([-12, 61])\n",
    "ax.legend();\n",
    "### END Solution"
   ]
  },
  {
   "cell_type": "code",
   "execution_count": 21,
   "metadata": {
    "colab": {
     "base_uri": "https://localhost:8080/",
     "height": 299
    },
    "colab_type": "code",
    "id": "rIT6eGVZnMzH",
    "outputId": "d35557da-4748-4b64-b913-bdc2a2185861"
   },
   "outputs": [
    {
     "data": {
      "image/png": "[encoded data removed]",
      "text/plain": [
       "<Figure size 1008x288 with 1 Axes>"
      ]
     },
     "metadata": {
      "tags": []
     },
     "output_type": "display_data"
    }
   ],
   "source": [
    "# >>> your code here <<<\n",
    "y_pred_test_new = scaler.inverse_transform(y_pred_test[0])\n",
    "y_test_new = scaler.inverse_transform(y_test)\n",
    "fig = plt.figure(figsize=(14, 4), facecolor='white')\n",
    "fig.patch.set_facecolor('white')\n",
    "plt.scatter(y_test_new, y_pred_test_new)\n",
    "plt.plot(np.linspace(np.min(y_test_new), np.max(y_test_new), 100), np.linspace(np.min(y_test_new), np.max(y_test_new), 100), color = 'red', label='x = y')\n",
    "plt.legend()\n",
    "plt.grid(True)\n",
    "plt.title('QQ-plot')\n",
    "plt.xlabel('True Value', fontsize=14);\n",
    "plt.ylabel('Predicted Value', fontsize=14);"
   ]
  },
  {
   "cell_type": "code",
   "execution_count": 25,
   "metadata": {
    "colab": {
     "base_uri": "https://localhost:8080/",
     "height": 35
    },
    "colab_type": "code",
    "id": "JodYJnFSnMzN",
    "outputId": "46e63078-a7eb-431a-e57b-70f6ecb88c28"
   },
   "outputs": [
    {
     "data": {
      "text/plain": [
       "0.8681805937630482"
      ]
     },
     "execution_count": 25,
     "metadata": {
      "tags": []
     },
     "output_type": "execute_result"
    }
   ],
   "source": [
    "r2_score(y_test_new, y_pred_test_new)"
   ]
  }
 ],
 "metadata": {
  "colab": {
   "collapsed_sections": [],
   "name": "ML2019HW03-part1.ipynb",
   "provenance": [],
   "version": "0.3.2"
  },
  "kernelspec": {
   "display_name": "Python 3",
   "language": "python",
   "name": "python3"
  },
  "language_info": {
   "codemirror_mode": {
    "name": "ipython",
    "version": 3
   },
   "file_extension": ".py",
   "mimetype": "text/x-python",
   "name": "python",
   "nbconvert_exporter": "python",
   "pygments_lexer": "ipython3",
   "version": "3.7.1"
  }
 },
 "nbformat": 4,
 "nbformat_minor": 1
}
